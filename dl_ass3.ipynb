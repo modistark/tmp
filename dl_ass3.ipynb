{
 "cells": [
  {
   "cell_type": "markdown",
   "metadata": {},
   "source": [
    "# ASSIGNMENT - 3"
   ]
  },
  {
   "cell_type": "markdown",
   "metadata": {},
   "source": [
    "### 1. Problem statement\n",
    "Recurrent neural network (RNN) --  Use the Google stock prices dataset and design a time\n",
    "series analysis and prediction system using RNN."
   ]
  },
  {
   "cell_type": "markdown",
   "metadata": {},
   "source": [
    "### 2. Import library"
   ]
  },
  {
   "cell_type": "code",
   "execution_count": 1,
   "metadata": {},
   "outputs": [],
   "source": [
    "import numpy as np\n",
    "import matplotlib.pyplot as plt\n",
    "import pandas as pd\n",
    "from sklearn.preprocessing import MinMaxScaler\n",
    "from tensorflow.keras.models import Sequential\n",
    "from tensorflow.keras.layers import LSTM\n",
    "from tensorflow.keras.layers import Dense\n",
    "from tensorflow.keras.layers import Dropout"
   ]
  },
  {
   "cell_type": "markdown",
   "metadata": {},
   "source": [
    "### 3. Data processing"
   ]
  },
  {
   "cell_type": "markdown",
   "metadata": {},
   "source": [
    "#### 3.0 import the data"
   ]
  },
  {
   "cell_type": "code",
   "execution_count": 2,
   "metadata": {},
   "outputs": [],
   "source": [
    "dataset_train = pd.read_csv('Google_Stock_Price_Train.csv')"
   ]
  },
  {
   "cell_type": "code",
   "execution_count": 3,
   "metadata": {},
   "outputs": [
    {
     "data": {
      "text/html": [
       "<div>\n",
       "<style scoped>\n",
       "    .dataframe tbody tr th:only-of-type {\n",
       "        vertical-align: middle;\n",
       "    }\n",
       "\n",
       "    .dataframe tbody tr th {\n",
       "        vertical-align: top;\n",
       "    }\n",
       "\n",
       "    .dataframe thead th {\n",
       "        text-align: right;\n",
       "    }\n",
       "</style>\n",
       "<table border=\"1\" class=\"dataframe\">\n",
       "  <thead>\n",
       "    <tr style=\"text-align: right;\">\n",
       "      <th></th>\n",
       "      <th>Date</th>\n",
       "      <th>Open</th>\n",
       "      <th>High</th>\n",
       "      <th>Low</th>\n",
       "      <th>Close</th>\n",
       "      <th>Volume</th>\n",
       "    </tr>\n",
       "  </thead>\n",
       "  <tbody>\n",
       "    <tr>\n",
       "      <th>0</th>\n",
       "      <td>1/3/2012</td>\n",
       "      <td>325.25</td>\n",
       "      <td>332.83</td>\n",
       "      <td>324.97</td>\n",
       "      <td>663.59</td>\n",
       "      <td>7,380,500</td>\n",
       "    </tr>\n",
       "    <tr>\n",
       "      <th>1</th>\n",
       "      <td>1/4/2012</td>\n",
       "      <td>331.27</td>\n",
       "      <td>333.87</td>\n",
       "      <td>329.08</td>\n",
       "      <td>666.45</td>\n",
       "      <td>5,749,400</td>\n",
       "    </tr>\n",
       "    <tr>\n",
       "      <th>2</th>\n",
       "      <td>1/5/2012</td>\n",
       "      <td>329.83</td>\n",
       "      <td>330.75</td>\n",
       "      <td>326.89</td>\n",
       "      <td>657.21</td>\n",
       "      <td>6,590,300</td>\n",
       "    </tr>\n",
       "    <tr>\n",
       "      <th>3</th>\n",
       "      <td>1/6/2012</td>\n",
       "      <td>328.34</td>\n",
       "      <td>328.77</td>\n",
       "      <td>323.68</td>\n",
       "      <td>648.24</td>\n",
       "      <td>5,405,900</td>\n",
       "    </tr>\n",
       "    <tr>\n",
       "      <th>4</th>\n",
       "      <td>1/9/2012</td>\n",
       "      <td>322.04</td>\n",
       "      <td>322.29</td>\n",
       "      <td>309.46</td>\n",
       "      <td>620.76</td>\n",
       "      <td>11,688,800</td>\n",
       "    </tr>\n",
       "  </tbody>\n",
       "</table>\n",
       "</div>"
      ],
      "text/plain": [
       "       Date    Open    High     Low   Close      Volume\n",
       "0  1/3/2012  325.25  332.83  324.97  663.59   7,380,500\n",
       "1  1/4/2012  331.27  333.87  329.08  666.45   5,749,400\n",
       "2  1/5/2012  329.83  330.75  326.89  657.21   6,590,300\n",
       "3  1/6/2012  328.34  328.77  323.68  648.24   5,405,900\n",
       "4  1/9/2012  322.04  322.29  309.46  620.76  11,688,800"
      ]
     },
     "execution_count": 3,
     "metadata": {},
     "output_type": "execute_result"
    }
   ],
   "source": [
    "dataset_train.head()"
   ]
  },
  {
   "cell_type": "code",
   "execution_count": 4,
   "metadata": {},
   "outputs": [],
   "source": [
    "#keras only takes numpy array\n",
    "training_set = dataset_train.iloc[:, 1: 2].values"
   ]
  },
  {
   "cell_type": "code",
   "execution_count": 5,
   "metadata": {},
   "outputs": [
    {
     "data": {
      "text/html": [
       "<div>\n",
       "<style scoped>\n",
       "    .dataframe tbody tr th:only-of-type {\n",
       "        vertical-align: middle;\n",
       "    }\n",
       "\n",
       "    .dataframe tbody tr th {\n",
       "        vertical-align: top;\n",
       "    }\n",
       "\n",
       "    .dataframe thead th {\n",
       "        text-align: right;\n",
       "    }\n",
       "</style>\n",
       "<table border=\"1\" class=\"dataframe\">\n",
       "  <thead>\n",
       "    <tr style=\"text-align: right;\">\n",
       "      <th></th>\n",
       "      <th>Date</th>\n",
       "      <th>Open</th>\n",
       "      <th>High</th>\n",
       "      <th>Low</th>\n",
       "      <th>Close</th>\n",
       "      <th>Volume</th>\n",
       "    </tr>\n",
       "  </thead>\n",
       "  <tbody>\n",
       "  </tbody>\n",
       "</table>\n",
       "</div>"
      ],
      "text/plain": [
       "Empty DataFrame\n",
       "Columns: [Date, Open, High, Low, Close, Volume]\n",
       "Index: []"
      ]
     },
     "execution_count": 5,
     "metadata": {},
     "output_type": "execute_result"
    }
   ],
   "source": [
    "dataset_train.iloc[2:0]"
   ]
  },
  {
   "cell_type": "code",
   "execution_count": 6,
   "metadata": {},
   "outputs": [
    {
     "data": {
      "text/plain": [
       "array([[325.25],\n",
       "       [331.27],\n",
       "       [329.83],\n",
       "       ...,\n",
       "       [793.7 ],\n",
       "       [783.33],\n",
       "       [782.75]])"
      ]
     },
     "execution_count": 6,
     "metadata": {},
     "output_type": "execute_result"
    }
   ],
   "source": [
    "training_set"
   ]
  },
  {
   "cell_type": "code",
   "execution_count": 7,
   "metadata": {},
   "outputs": [
    {
     "data": {
      "image/png": "[encoded data removed]",
      "text/plain": [
       "<Figure size 1296x576 with 1 Axes>"
      ]
     },
     "metadata": {
      "needs_background": "light"
     },
     "output_type": "display_data"
    }
   ],
   "source": [
    "plt.figure(figsize=(18, 8))\n",
    "plt.plot(dataset_train['Open'])\n",
    "plt.title(\"Google Stock Open Prices\")\n",
    "plt.xlabel(\"Time (oldest -> latest)\")\n",
    "plt.ylabel(\"Stock Open Price\")\n",
    "plt.show()"
   ]
  },
  {
   "cell_type": "markdown",
   "metadata": {},
   "source": [
    "#### 3.1 Feature scaling"
   ]
  },
  {
   "cell_type": "code",
   "execution_count": 8,
   "metadata": {},
   "outputs": [
    {
     "name": "stdout",
     "output_type": "stream",
     "text": [
      "0\n"
     ]
    }
   ],
   "source": [
    "import os\n",
    "if os.path.exists('config.py'):\n",
    "    print(1)\n",
    "else:\n",
    "    print(0)"
   ]
  },
  {
   "cell_type": "code",
   "execution_count": 9,
   "metadata": {},
   "outputs": [],
   "source": [
    "sc = MinMaxScaler(feature_range = (0, 1))\n",
    "#fit: get min/max of train data\n",
    "training_set_scaled = sc.fit_transform(training_set)"
   ]
  },
  {
   "cell_type": "markdown",
   "metadata": {},
   "source": [
    "#### 3.2 Data structure creation"
   ]
  },
  {
   "cell_type": "markdown",
   "metadata": {},
   "source": [
    "- taking the reference of past 60 days of data to predict the future stock price.  \n",
    "- It is observed that taking 60 days of past data gives us best results.  \n",
    "- In this data set 60 days of data means 3 months of data.  \n",
    "- Every month as 20 days of Stock price.   \n",
    "- X train will have data of 60 days prior to our date and y train will have data of one day after our date"
   ]
  },
  {
   "cell_type": "code",
   "execution_count": 10,
   "metadata": {},
   "outputs": [
    {
     "data": {
      "text/plain": [
       "array([[0.08581368],\n",
       "       [0.09701243],\n",
       "       [0.09433366],\n",
       "       ...,\n",
       "       [0.95725128],\n",
       "       [0.93796041],\n",
       "       [0.93688146]])"
      ]
     },
     "execution_count": 10,
     "metadata": {},
     "output_type": "execute_result"
    }
   ],
   "source": [
    "training_set_scaled"
   ]
  },
  {
   "cell_type": "code",
   "execution_count": 11,
   "metadata": {},
   "outputs": [],
   "source": [
    "## 60 timesteps and 1 output\n",
    "X_train = []\n",
    "y_train = []\n",
    "for i in range(60, len(training_set_scaled)):\n",
    "    X_train.append(training_set_scaled[i-60: i, 0])\n",
    "    y_train.append(training_set_scaled[i, 0])\n",
    "\n",
    "X_train, y_train = np.array(X_train), np.array(y_train)"
   ]
  },
  {
   "cell_type": "code",
   "execution_count": 12,
   "metadata": {},
   "outputs": [
    {
     "data": {
      "text/plain": [
       "(1198, 60)"
      ]
     },
     "execution_count": 12,
     "metadata": {},
     "output_type": "execute_result"
    }
   ],
   "source": [
    "X_train.shape"
   ]
  },
  {
   "cell_type": "code",
   "execution_count": 13,
   "metadata": {},
   "outputs": [
    {
     "data": {
      "text/plain": [
       "(1198,)"
      ]
     },
     "execution_count": 13,
     "metadata": {},
     "output_type": "execute_result"
    }
   ],
   "source": [
    "y_train.shape"
   ]
  },
  {
   "cell_type": "markdown",
   "metadata": {},
   "source": [
    "#### 3.3 Data reshaping"
   ]
  },
  {
   "cell_type": "code",
   "execution_count": 14,
   "metadata": {},
   "outputs": [],
   "source": [
    "X_train = np.reshape(X_train, newshape = \n",
    "                     (X_train.shape[0], X_train.shape[1], 1))"
   ]
  },
  {
   "cell_type": "markdown",
   "metadata": {},
   "source": [
    "1. Number of stock prices - 1449  \n",
    "2. Number of time steps - 60  \n",
    "3. Number of Indicator - 1  "
   ]
  },
  {
   "cell_type": "code",
   "execution_count": 15,
   "metadata": {},
   "outputs": [
    {
     "data": {
      "text/plain": [
       "(1198, 60, 1)"
      ]
     },
     "execution_count": 15,
     "metadata": {},
     "output_type": "execute_result"
    }
   ],
   "source": [
    "X_train.shape"
   ]
  },
  {
   "cell_type": "markdown",
   "metadata": {},
   "source": [
    "### 4. Create & Fit Model"
   ]
  },
  {
   "cell_type": "markdown",
   "metadata": {},
   "source": [
    "#### 4.1 Create model"
   ]
  },
  {
   "cell_type": "code",
   "execution_count": 16,
   "metadata": {},
   "outputs": [],
   "source": [
    "regressor = Sequential()\n",
    "#add 1st lstm layer\n",
    "regressor.add(LSTM(units = 50, return_sequences = True, input_shape = (X_train.shape[1], 1)))\n",
    "regressor.add(Dropout(rate = 0.2))\n",
    "\n",
    "##add 2nd lstm layer: 50 neurons\n",
    "regressor.add(LSTM(units = 50, return_sequences = True))\n",
    "regressor.add(Dropout(rate = 0.2))\n",
    "\n",
    "##add 3rd lstm layer\n",
    "regressor.add(LSTM(units = 50, return_sequences = True))\n",
    "regressor.add(Dropout(rate = 0.2))\n",
    "\n",
    "##add 4th lstm layer\n",
    "regressor.add(LSTM(units = 50, return_sequences = False))\n",
    "regressor.add(Dropout(rate = 0.2))\n",
    "\n",
    "##add output layer\n",
    "regressor.add(Dense(units = 1))"
   ]
  },
  {
   "cell_type": "code",
   "execution_count": 17,
   "metadata": {},
   "outputs": [],
   "source": [
    "regressor.compile(optimizer = 'adam', loss = 'mean_squared_error')"
   ]
  },
  {
   "cell_type": "markdown",
   "metadata": {},
   "source": [
    "#### 4.2 Model fit"
   ]
  },
  {
   "cell_type": "code",
   "execution_count": 36,
   "metadata": {
    "scrolled": true
   },
   "outputs": [
    {
     "name": "stdout",
     "output_type": "stream",
     "text": [
      "Epoch 1/100\n",
      "38/38 [==============================] - 6s 152ms/step - loss: 0.0031\n",
      "Epoch 2/100\n",
      "38/38 [==============================] - 6s 149ms/step - loss: 0.0031\n",
      "Epoch 3/100\n",
      "38/38 [==============================] - 6s 148ms/step - loss: 0.0028\n",
      "Epoch 4/100\n",
      "38/38 [==============================] - 5s 142ms/step - loss: 0.0029\n",
      "Epoch 5/100\n",
      "38/38 [==============================] - 6s 152ms/step - loss: 0.0030\n",
      "Epoch 6/100\n",
      "38/38 [==============================] - 5s 142ms/step - loss: 0.0031\n",
      "Epoch 7/100\n",
      "38/38 [==============================] - 5s 140ms/step - loss: 0.0034\n",
      "Epoch 8/100\n",
      "38/38 [==============================] - 5s 142ms/step - loss: 0.0033\n",
      "Epoch 9/100\n",
      "38/38 [==============================] - 5s 143ms/step - loss: 0.0031\n",
      "Epoch 10/100\n",
      "38/38 [==============================] - 5s 144ms/step - loss: 0.0027\n",
      "Epoch 11/100\n",
      "38/38 [==============================] - 5s 137ms/step - loss: 0.0030\n",
      "Epoch 12/100\n",
      "38/38 [==============================] - 5s 141ms/step - loss: 0.0032\n",
      "Epoch 13/100\n",
      "38/38 [==============================] - 6s 146ms/step - loss: 0.0028\n",
      "Epoch 14/100\n",
      "38/38 [==============================] - 6s 153ms/step - loss: 0.0027\n",
      "Epoch 15/100\n",
      "38/38 [==============================] - 6s 147ms/step - loss: 0.0025\n",
      "Epoch 16/100\n",
      "38/38 [==============================] - 5s 144ms/step - loss: 0.0025\n",
      "Epoch 17/100\n",
      "38/38 [==============================] - 6s 146ms/step - loss: 0.0024\n",
      "Epoch 18/100\n",
      "38/38 [==============================] - 6s 156ms/step - loss: 0.0027\n",
      "Epoch 19/100\n",
      "38/38 [==============================] - 6s 149ms/step - loss: 0.0025\n",
      "Epoch 20/100\n",
      "38/38 [==============================] - 5s 143ms/step - loss: 0.0026\n",
      "Epoch 21/100\n",
      "38/38 [==============================] - 6s 146ms/step - loss: 0.0023\n",
      "Epoch 22/100\n",
      "38/38 [==============================] - 5s 140ms/step - loss: 0.0022\n",
      "Epoch 23/100\n",
      "38/38 [==============================] - 5s 144ms/step - loss: 0.0024\n",
      "Epoch 24/100\n",
      "38/38 [==============================] - 5s 139ms/step - loss: 0.0024\n",
      "Epoch 25/100\n",
      "38/38 [==============================] - 6s 147ms/step - loss: 0.0027\n",
      "Epoch 26/100\n",
      "38/38 [==============================] - 6s 145ms/step - loss: 0.0022\n",
      "Epoch 27/100\n",
      "38/38 [==============================] - 6s 146ms/step - loss: 0.0025\n",
      "Epoch 28/100\n",
      "38/38 [==============================] - 5s 142ms/step - loss: 0.0024\n",
      "Epoch 29/100\n",
      "38/38 [==============================] - 6s 149ms/step - loss: 0.0025\n",
      "Epoch 30/100\n",
      "38/38 [==============================] - 6s 151ms/step - loss: 0.0022\n",
      "Epoch 31/100\n",
      "38/38 [==============================] - 6s 150ms/step - loss: 0.0022\n",
      "Epoch 32/100\n",
      "38/38 [==============================] - 5s 144ms/step - loss: 0.0023\n",
      "Epoch 33/100\n",
      "38/38 [==============================] - 5s 139ms/step - loss: 0.0021\n",
      "Epoch 34/100\n",
      "38/38 [==============================] - 6s 150ms/step - loss: 0.0024\n",
      "Epoch 35/100\n",
      "38/38 [==============================] - 6s 147ms/step - loss: 0.0021\n",
      "Epoch 36/100\n",
      "38/38 [==============================] - 5s 143ms/step - loss: 0.0021\n",
      "Epoch 37/100\n",
      "38/38 [==============================] - 6s 153ms/step - loss: 0.0021\n",
      "Epoch 38/100\n",
      "38/38 [==============================] - 6s 153ms/step - loss: 0.0021\n",
      "Epoch 39/100\n",
      "38/38 [==============================] - 6s 144ms/step - loss: 0.0019\n",
      "Epoch 40/100\n",
      "38/38 [==============================] - 5s 145ms/step - loss: 0.0019\n",
      "Epoch 41/100\n",
      "38/38 [==============================] - 5s 143ms/step - loss: 0.0020\n",
      "Epoch 42/100\n",
      "38/38 [==============================] - 5s 140ms/step - loss: 0.0019\n",
      "Epoch 43/100\n",
      "38/38 [==============================] - 5s 144ms/step - loss: 0.0021\n",
      "Epoch 44/100\n",
      "38/38 [==============================] - 6s 150ms/step - loss: 0.0020\n",
      "Epoch 45/100\n",
      "38/38 [==============================] - 6s 157ms/step - loss: 0.0019\n",
      "Epoch 46/100\n",
      "38/38 [==============================] - 6s 148ms/step - loss: 0.0021\n",
      "Epoch 47/100\n",
      "38/38 [==============================] - 5s 143ms/step - loss: 0.0020\n",
      "Epoch 48/100\n",
      "38/38 [==============================] - 5s 143ms/step - loss: 0.0018\n",
      "Epoch 49/100\n",
      "38/38 [==============================] - 5s 139ms/step - loss: 0.0019\n",
      "Epoch 50/100\n",
      "38/38 [==============================] - 6s 147ms/step - loss: 0.0018\n",
      "Epoch 51/100\n",
      "38/38 [==============================] - 5s 139ms/step - loss: 0.0018\n",
      "Epoch 52/100\n",
      "38/38 [==============================] - 5s 142ms/step - loss: 0.0019\n",
      "Epoch 53/100\n",
      "38/38 [==============================] - 5s 139ms/step - loss: 0.0019\n",
      "Epoch 54/100\n",
      "38/38 [==============================] - 5s 142ms/step - loss: 0.0020\n",
      "Epoch 55/100\n",
      "38/38 [==============================] - 5s 144ms/step - loss: 0.0016\n",
      "Epoch 56/100\n",
      "38/38 [==============================] - 5s 142ms/step - loss: 0.0016\n",
      "Epoch 57/100\n",
      "38/38 [==============================] - 5s 137ms/step - loss: 0.0016\n",
      "Epoch 58/100\n",
      "38/38 [==============================] - 6s 149ms/step - loss: 0.0016\n",
      "Epoch 59/100\n",
      "38/38 [==============================] - 6s 145ms/step - loss: 0.0017\n",
      "Epoch 60/100\n",
      "38/38 [==============================] - 5s 144ms/step - loss: 0.0015\n",
      "Epoch 61/100\n",
      "38/38 [==============================] - 6s 145ms/step - loss: 0.0015\n",
      "Epoch 62/100\n",
      "38/38 [==============================] - 6s 152ms/step - loss: 0.0016\n",
      "Epoch 63/100\n",
      "38/38 [==============================] - 5s 142ms/step - loss: 0.0017\n",
      "Epoch 64/100\n",
      "38/38 [==============================] - 6s 146ms/step - loss: 0.0016\n",
      "Epoch 65/100\n",
      "38/38 [==============================] - 6s 147ms/step - loss: 0.0016\n",
      "Epoch 66/100\n",
      "38/38 [==============================] - 5s 141ms/step - loss: 0.0017\n",
      "Epoch 67/100\n",
      "38/38 [==============================] - 5s 140ms/step - loss: 0.0016\n",
      "Epoch 68/100\n",
      "38/38 [==============================] - 4s 106ms/step - loss: 0.0015\n",
      "Epoch 69/100\n",
      "38/38 [==============================] - 4s 107ms/step - loss: 0.0015\n",
      "Epoch 70/100\n",
      "38/38 [==============================] - 4s 115ms/step - loss: 0.0016\n",
      "Epoch 71/100\n",
      "38/38 [==============================] - 5s 127ms/step - loss: 0.0015\n",
      "Epoch 72/100\n",
      "38/38 [==============================] - 5s 132ms/step - loss: 0.0014\n",
      "Epoch 73/100\n",
      "38/38 [==============================] - 5s 131ms/step - loss: 0.0014\n",
      "Epoch 74/100\n",
      "38/38 [==============================] - 5s 135ms/step - loss: 0.0014\n",
      "Epoch 75/100\n",
      "38/38 [==============================] - 5s 129ms/step - loss: 0.0014\n",
      "Epoch 76/100\n",
      "38/38 [==============================] - 6s 149ms/step - loss: 0.0014\n",
      "Epoch 77/100\n",
      "38/38 [==============================] - 6s 147ms/step - loss: 0.0020\n",
      "Epoch 78/100\n",
      "38/38 [==============================] - 6s 149ms/step - loss: 0.0014\n",
      "Epoch 79/100\n",
      "38/38 [==============================] - 5s 144ms/step - loss: 0.0014\n",
      "Epoch 80/100\n",
      "38/38 [==============================] - 5s 143ms/step - loss: 0.0014\n",
      "Epoch 81/100\n",
      "38/38 [==============================] - 5s 136ms/step - loss: 0.0014\n",
      "Epoch 82/100\n",
      "38/38 [==============================] - 6s 149ms/step - loss: 0.0012\n",
      "Epoch 83/100\n",
      "38/38 [==============================] - 5s 120ms/step - loss: 0.0013\n",
      "Epoch 84/100\n",
      "38/38 [==============================] - 5s 134ms/step - loss: 0.0015\n",
      "Epoch 85/100\n",
      "38/38 [==============================] - 5s 129ms/step - loss: 0.0014\n",
      "Epoch 86/100\n",
      "38/38 [==============================] - 5s 128ms/step - loss: 0.0013\n",
      "Epoch 87/100\n",
      "38/38 [==============================] - 5s 133ms/step - loss: 0.0015\n",
      "Epoch 88/100\n",
      "38/38 [==============================] - 5s 131ms/step - loss: 0.0015\n",
      "Epoch 89/100\n",
      "38/38 [==============================] - 6s 150ms/step - loss: 0.0013\n",
      "Epoch 90/100\n",
      "38/38 [==============================] - 6s 149ms/step - loss: 0.0014\n",
      "Epoch 91/100\n",
      "38/38 [==============================] - 6s 146ms/step - loss: 0.0014\n",
      "Epoch 92/100\n",
      "38/38 [==============================] - 6s 150ms/step - loss: 0.0014\n",
      "Epoch 93/100\n",
      "38/38 [==============================] - 5s 143ms/step - loss: 0.0012\n",
      "Epoch 94/100\n",
      "38/38 [==============================] - 5s 130ms/step - loss: 0.0013\n",
      "Epoch 95/100\n",
      "38/38 [==============================] - 4s 108ms/step - loss: 0.0013\n",
      "Epoch 96/100\n",
      "38/38 [==============================] - 5s 129ms/step - loss: 0.0013\n",
      "Epoch 97/100\n",
      "38/38 [==============================] - 5s 117ms/step - loss: 0.0013\n",
      "Epoch 98/100\n",
      "38/38 [==============================] - 5s 135ms/step - loss: 0.0014\n",
      "Epoch 99/100\n"
     ]
    },
    {
     "name": "stdout",
     "output_type": "stream",
     "text": [
      "38/38 [==============================] - 6s 146ms/step - loss: 0.0012\n",
      "Epoch 100/100\n",
      "38/38 [==============================] - 5s 135ms/step - loss: 0.0013\n"
     ]
    },
    {
     "data": {
      "text/plain": [
       "<keras.callbacks.History at 0x1f2dc427760>"
      ]
     },
     "execution_count": 36,
     "metadata": {},
     "output_type": "execute_result"
    }
   ],
   "source": [
    "regressor.fit(x = X_train, y = y_train, batch_size = 32, epochs = 100)"
   ]
  },
  {
   "cell_type": "markdown",
   "metadata": {},
   "source": [
    "#### 4.3 Model evaluation"
   ]
  },
  {
   "cell_type": "markdown",
   "metadata": {},
   "source": [
    "#### 4.3.1 Read and convert"
   ]
  },
  {
   "cell_type": "code",
   "execution_count": 37,
   "metadata": {},
   "outputs": [],
   "source": [
    "dataset_test = pd.read_csv('Google_Stock_Price_Test.csv')"
   ]
  },
  {
   "cell_type": "code",
   "execution_count": 38,
   "metadata": {
    "scrolled": true
   },
   "outputs": [
    {
     "data": {
      "text/html": [
       "<div>\n",
       "<style scoped>\n",
       "    .dataframe tbody tr th:only-of-type {\n",
       "        vertical-align: middle;\n",
       "    }\n",
       "\n",
       "    .dataframe tbody tr th {\n",
       "        vertical-align: top;\n",
       "    }\n",
       "\n",
       "    .dataframe thead th {\n",
       "        text-align: right;\n",
       "    }\n",
       "</style>\n",
       "<table border=\"1\" class=\"dataframe\">\n",
       "  <thead>\n",
       "    <tr style=\"text-align: right;\">\n",
       "      <th></th>\n",
       "      <th>Date</th>\n",
       "      <th>Open</th>\n",
       "      <th>High</th>\n",
       "      <th>Low</th>\n",
       "      <th>Close</th>\n",
       "      <th>Volume</th>\n",
       "    </tr>\n",
       "  </thead>\n",
       "  <tbody>\n",
       "    <tr>\n",
       "      <th>0</th>\n",
       "      <td>1/3/2017</td>\n",
       "      <td>778.81</td>\n",
       "      <td>789.63</td>\n",
       "      <td>775.80</td>\n",
       "      <td>786.14</td>\n",
       "      <td>1,657,300</td>\n",
       "    </tr>\n",
       "    <tr>\n",
       "      <th>1</th>\n",
       "      <td>1/4/2017</td>\n",
       "      <td>788.36</td>\n",
       "      <td>791.34</td>\n",
       "      <td>783.16</td>\n",
       "      <td>786.90</td>\n",
       "      <td>1,073,000</td>\n",
       "    </tr>\n",
       "    <tr>\n",
       "      <th>2</th>\n",
       "      <td>1/5/2017</td>\n",
       "      <td>786.08</td>\n",
       "      <td>794.48</td>\n",
       "      <td>785.02</td>\n",
       "      <td>794.02</td>\n",
       "      <td>1,335,200</td>\n",
       "    </tr>\n",
       "    <tr>\n",
       "      <th>3</th>\n",
       "      <td>1/6/2017</td>\n",
       "      <td>795.26</td>\n",
       "      <td>807.90</td>\n",
       "      <td>792.20</td>\n",
       "      <td>806.15</td>\n",
       "      <td>1,640,200</td>\n",
       "    </tr>\n",
       "    <tr>\n",
       "      <th>4</th>\n",
       "      <td>1/9/2017</td>\n",
       "      <td>806.40</td>\n",
       "      <td>809.97</td>\n",
       "      <td>802.83</td>\n",
       "      <td>806.65</td>\n",
       "      <td>1,272,400</td>\n",
       "    </tr>\n",
       "  </tbody>\n",
       "</table>\n",
       "</div>"
      ],
      "text/plain": [
       "       Date    Open    High     Low   Close     Volume\n",
       "0  1/3/2017  778.81  789.63  775.80  786.14  1,657,300\n",
       "1  1/4/2017  788.36  791.34  783.16  786.90  1,073,000\n",
       "2  1/5/2017  786.08  794.48  785.02  794.02  1,335,200\n",
       "3  1/6/2017  795.26  807.90  792.20  806.15  1,640,200\n",
       "4  1/9/2017  806.40  809.97  802.83  806.65  1,272,400"
      ]
     },
     "execution_count": 38,
     "metadata": {},
     "output_type": "execute_result"
    }
   ],
   "source": [
    "dataset_test.head()"
   ]
  },
  {
   "cell_type": "code",
   "execution_count": 39,
   "metadata": {},
   "outputs": [
    {
     "data": {
      "text/plain": [
       "(20, 1)"
      ]
     },
     "execution_count": 39,
     "metadata": {},
     "output_type": "execute_result"
    }
   ],
   "source": [
    "#keras only takes numpy array\n",
    "real_stock_price = dataset_test.iloc[:, 1: 2].values\n",
    "real_stock_price.shape"
   ]
  },
  {
   "cell_type": "code",
   "execution_count": 40,
   "metadata": {},
   "outputs": [
    {
     "data": {
      "text/plain": [
       "array([[778.81],\n",
       "       [788.36],\n",
       "       [786.08],\n",
       "       [795.26],\n",
       "       [806.4 ],\n",
       "       [807.86],\n",
       "       [805.  ],\n",
       "       [807.14],\n",
       "       [807.48],\n",
       "       [807.08],\n",
       "       [805.81],\n",
       "       [805.12],\n",
       "       [806.91],\n",
       "       [807.25],\n",
       "       [822.3 ],\n",
       "       [829.62],\n",
       "       [837.81],\n",
       "       [834.71],\n",
       "       [814.66],\n",
       "       [796.86]])"
      ]
     },
     "execution_count": 40,
     "metadata": {},
     "output_type": "execute_result"
    }
   ],
   "source": [
    "real_stock_price"
   ]
  },
  {
   "cell_type": "markdown",
   "metadata": {},
   "source": [
    "#### 4.3.2 Concat and convert"
   ]
  },
  {
   "cell_type": "code",
   "execution_count": 41,
   "metadata": {},
   "outputs": [],
   "source": [
    "#vertical concat use 0, horizontal uses 1\n",
    "dataset_total = pd.concat((dataset_train['Open'], dataset_test['Open']), \n",
    "                          axis = 0)\n",
    "##use .values to make numpy array\n",
    "inputs = dataset_total[len(dataset_total) - len(dataset_test) - 60:].values"
   ]
  },
  {
   "cell_type": "code",
   "execution_count": 42,
   "metadata": {},
   "outputs": [
    {
     "data": {
      "text/plain": [
       "array([779.  , 779.66, 777.71, 786.66, 783.76, 781.22, 781.65, 779.8 ,\n",
       "       787.85, 798.24, 803.3 , 795.  , 804.9 , 816.68, 806.34, 801.  ,\n",
       "       808.35, 795.47, 782.89, 778.2 , 767.25, 750.66, 774.5 , 783.4 ,\n",
       "       779.94, 791.17, 756.54, 755.6 , 746.97, 755.2 , 766.92, 771.37,\n",
       "       762.61, 772.63, 767.73, 764.26, 760.  , 771.53, 770.07, 757.44,\n",
       "       744.59, 757.71, 764.73, 761.  , 772.48, 780.  , 785.04, 793.9 ,\n",
       "       797.4 , 797.34, 800.4 , 790.22, 796.76, 795.84, 792.36, 790.9 ,\n",
       "       790.68, 793.7 , 783.33, 782.75, 778.81, 788.36, 786.08, 795.26,\n",
       "       806.4 , 807.86, 805.  , 807.14, 807.48, 807.08, 805.81, 805.12,\n",
       "       806.91, 807.25, 822.3 , 829.62, 837.81, 834.71, 814.66, 796.86])"
      ]
     },
     "execution_count": 42,
     "metadata": {},
     "output_type": "execute_result"
    }
   ],
   "source": [
    "inputs"
   ]
  },
  {
   "cell_type": "markdown",
   "metadata": {},
   "source": [
    "#### 4.3.3 Reshape and scale"
   ]
  },
  {
   "cell_type": "code",
   "execution_count": 43,
   "metadata": {},
   "outputs": [],
   "source": [
    "#reshape data to only have 1 col\n",
    "inputs = inputs.reshape(-1, 1)\n",
    "\n",
    "#scale input\n",
    "inputs = sc.transform(inputs)"
   ]
  },
  {
   "cell_type": "code",
   "execution_count": 44,
   "metadata": {},
   "outputs": [
    {
     "data": {
      "text/plain": [
       "80"
      ]
     },
     "execution_count": 44,
     "metadata": {},
     "output_type": "execute_result"
    }
   ],
   "source": [
    "len(inputs)"
   ]
  },
  {
   "cell_type": "markdown",
   "metadata": {},
   "source": [
    "#### 4.3.4 Create test data strucutre"
   ]
  },
  {
   "cell_type": "code",
   "execution_count": 45,
   "metadata": {},
   "outputs": [],
   "source": [
    "X_test = []\n",
    "for i in range(60, len(inputs)):\n",
    "    X_test.append(inputs[i-60:i, 0])\n",
    "X_test = np.array(X_test)\n",
    "#add dimension of indicator\n",
    "X_test = np.reshape(X_test, (X_test.shape[0], X_test.shape[1], 1))"
   ]
  },
  {
   "cell_type": "code",
   "execution_count": 46,
   "metadata": {},
   "outputs": [
    {
     "data": {
      "text/plain": [
       "(20, 60, 1)"
      ]
     },
     "execution_count": 46,
     "metadata": {},
     "output_type": "execute_result"
    }
   ],
   "source": [
    "X_test.shape"
   ]
  },
  {
   "cell_type": "markdown",
   "metadata": {},
   "source": [
    "#### 4.3.5 Model prediction"
   ]
  },
  {
   "cell_type": "code",
   "execution_count": 47,
   "metadata": {},
   "outputs": [
    {
     "name": "stdout",
     "output_type": "stream",
     "text": [
      "1/1 [==============================] - 0s 62ms/step\n"
     ]
    }
   ],
   "source": [
    "predicted_stock_price = regressor.predict(X_test)"
   ]
  },
  {
   "cell_type": "code",
   "execution_count": 48,
   "metadata": {},
   "outputs": [],
   "source": [
    "#inverse the scaled value\n",
    "predicted_stock_price = sc.inverse_transform(predicted_stock_price)"
   ]
  },
  {
   "cell_type": "markdown",
   "metadata": {},
   "source": [
    "#### 4.3.6 Result visualization"
   ]
  },
  {
   "cell_type": "code",
   "execution_count": 49,
   "metadata": {},
   "outputs": [
    {
     "data": {
      "text/plain": [
       "array([[775.09235],\n",
       "       [772.2744 ],\n",
       "       [774.3235 ],\n",
       "       [776.21277],\n",
       "       [780.04114],\n",
       "       [786.7277 ],\n",
       "       [791.22394],\n",
       "       [791.3011 ],\n",
       "       [790.91095],\n",
       "       [791.11566],\n",
       "       [791.51697],\n",
       "       [791.5533 ],\n",
       "       [791.4565 ],\n",
       "       [792.27423],\n",
       "       [793.2578 ],\n",
       "       [799.5301 ],\n",
       "       [807.08984],\n",
       "       [813.8052 ],\n",
       "       [815.3082 ],\n",
       "       [806.9802 ]], dtype=float32)"
      ]
     },
     "execution_count": 49,
     "metadata": {},
     "output_type": "execute_result"
    }
   ],
   "source": [
    "predicted_stock_price"
   ]
  },
  {
   "cell_type": "code",
   "execution_count": 50,
   "metadata": {},
   "outputs": [
    {
     "data": {
      "image/png": "[encoded data removed]",
      "text/plain": [
       "<Figure size 432x288 with 1 Axes>"
      ]
     },
     "metadata": {
      "needs_background": "light"
     },
     "output_type": "display_data"
    }
   ],
   "source": [
    "##visualize the prediction and real price\n",
    "plt.plot(real_stock_price, color = 'red', label = 'Real price')\n",
    "plt.plot(predicted_stock_price, color = 'blue', label = 'Predicted price')\n",
    "\n",
    "plt.title('Google price prediction')\n",
    "plt.xlabel('Time')\n",
    "plt.ylabel('Price')\n",
    "plt.legend()\n",
    "plt.show()"
   ]
  },
  {
   "cell_type": "code",
   "execution_count": 35,
   "metadata": {},
   "outputs": [
    {
     "data": {
      "text/plain": [
       "0.6271082113573914"
      ]
     },
     "execution_count": 35,
     "metadata": {},
     "output_type": "execute_result"
    }
   ],
   "source": [
    "from sklearn.metrics import r2_score\n",
    "abs(r2_score(real_stock_price,predicted_stock_price))"
   ]
  }
 ],
 "metadata": {
  "kernelspec": {
   "display_name": "Python 3",
   "language": "python",
   "name": "python3"
  },
  "language_info": {
   "codemirror_mode": {
    "name": "ipython",
    "version": 3
   },
   "file_extension": ".py",
   "mimetype": "text/x-python",
   "name": "python",
   "nbconvert_exporter": "python",
   "pygments_lexer": "ipython3",
   "version": "3.8.3"
  },
  "vscode": {
   "interpreter": {
    "hash": "9f1ed5a6caa63b933f18b2de58eb1658054e234b84bf4970be74ffb1abce9f96"
   }
  }
 },
 "nbformat": 4,
 "nbformat_minor": 4
}
