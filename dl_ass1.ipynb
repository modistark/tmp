{
 "cells": [
  {
   "cell_type": "markdown",
   "metadata": {
    "id": "k4lzTZXLZtxY"
   },
   "source": [
    "1. Linear regression by using Deep Neural network: Implement Boston housing price prediction problem by Linear regression using Deep Neural network. Use Boston House price prediction dataset"
   ]
  },
  {
   "cell_type": "markdown",
   "metadata": {
    "id": "LhaP3ReZbTPA"
   },
   "source": [
    "Reference\n",
    "https://inside-machinelearning.com/en/how-to-do-linear-regression-with-keras/"
   ]
  },
  {
   "cell_type": "code",
   "execution_count": 1,
   "metadata": {
    "id": "YnWvclvR3bgb"
   },
   "outputs": [],
   "source": [
    "import pandas as pd\n",
    "import numpy as np\n",
    "from sklearn import metrics\n",
    "import matplotlib.pyplot as plt\n",
    "import seaborn as sns\n",
    "%matplotlib inline\n",
    "import pandas as pd"
   ]
  },
  {
   "cell_type": "code",
   "execution_count": 2,
   "metadata": {
    "colab": {
     "base_uri": "https://localhost:8080/",
     "height": 423
    },
    "id": "5VaNBMot3gTg",
    "outputId": "ad78b9d8-71b2-4496-8885-7d374bcd8458"
   },
   "outputs": [
    {
     "data": {
      "text/html": [
       "<div>\n",
       "<style scoped>\n",
       "    .dataframe tbody tr th:only-of-type {\n",
       "        vertical-align: middle;\n",
       "    }\n",
       "\n",
       "    .dataframe tbody tr th {\n",
       "        vertical-align: top;\n",
       "    }\n",
       "\n",
       "    .dataframe thead th {\n",
       "        text-align: right;\n",
       "    }\n",
       "</style>\n",
       "<table border=\"1\" class=\"dataframe\">\n",
       "  <thead>\n",
       "    <tr style=\"text-align: right;\">\n",
       "      <th></th>\n",
       "      <th>Unnamed: 0</th>\n",
       "      <th>crim</th>\n",
       "      <th>zn</th>\n",
       "      <th>indus</th>\n",
       "      <th>chas</th>\n",
       "      <th>nox</th>\n",
       "      <th>rm</th>\n",
       "      <th>age</th>\n",
       "      <th>dis</th>\n",
       "      <th>rad</th>\n",
       "      <th>tax</th>\n",
       "      <th>ptratio</th>\n",
       "      <th>black</th>\n",
       "      <th>lstat</th>\n",
       "      <th>medv</th>\n",
       "    </tr>\n",
       "  </thead>\n",
       "  <tbody>\n",
       "    <tr>\n",
       "      <th>0</th>\n",
       "      <td>1</td>\n",
       "      <td>0.00632</td>\n",
       "      <td>18.0</td>\n",
       "      <td>2.31</td>\n",
       "      <td>0</td>\n",
       "      <td>0.538</td>\n",
       "      <td>6.575</td>\n",
       "      <td>65.2</td>\n",
       "      <td>4.0900</td>\n",
       "      <td>1</td>\n",
       "      <td>296</td>\n",
       "      <td>15.3</td>\n",
       "      <td>396.90</td>\n",
       "      <td>4.98</td>\n",
       "      <td>24.0</td>\n",
       "    </tr>\n",
       "    <tr>\n",
       "      <th>1</th>\n",
       "      <td>2</td>\n",
       "      <td>0.02731</td>\n",
       "      <td>0.0</td>\n",
       "      <td>7.07</td>\n",
       "      <td>0</td>\n",
       "      <td>0.469</td>\n",
       "      <td>6.421</td>\n",
       "      <td>78.9</td>\n",
       "      <td>4.9671</td>\n",
       "      <td>2</td>\n",
       "      <td>242</td>\n",
       "      <td>17.8</td>\n",
       "      <td>396.90</td>\n",
       "      <td>9.14</td>\n",
       "      <td>21.6</td>\n",
       "    </tr>\n",
       "    <tr>\n",
       "      <th>2</th>\n",
       "      <td>3</td>\n",
       "      <td>0.02729</td>\n",
       "      <td>0.0</td>\n",
       "      <td>7.07</td>\n",
       "      <td>0</td>\n",
       "      <td>0.469</td>\n",
       "      <td>7.185</td>\n",
       "      <td>61.1</td>\n",
       "      <td>4.9671</td>\n",
       "      <td>2</td>\n",
       "      <td>242</td>\n",
       "      <td>17.8</td>\n",
       "      <td>392.83</td>\n",
       "      <td>4.03</td>\n",
       "      <td>34.7</td>\n",
       "    </tr>\n",
       "    <tr>\n",
       "      <th>3</th>\n",
       "      <td>4</td>\n",
       "      <td>0.03237</td>\n",
       "      <td>0.0</td>\n",
       "      <td>2.18</td>\n",
       "      <td>0</td>\n",
       "      <td>0.458</td>\n",
       "      <td>6.998</td>\n",
       "      <td>45.8</td>\n",
       "      <td>6.0622</td>\n",
       "      <td>3</td>\n",
       "      <td>222</td>\n",
       "      <td>18.7</td>\n",
       "      <td>394.63</td>\n",
       "      <td>2.94</td>\n",
       "      <td>33.4</td>\n",
       "    </tr>\n",
       "    <tr>\n",
       "      <th>4</th>\n",
       "      <td>5</td>\n",
       "      <td>0.06905</td>\n",
       "      <td>0.0</td>\n",
       "      <td>2.18</td>\n",
       "      <td>0</td>\n",
       "      <td>0.458</td>\n",
       "      <td>7.147</td>\n",
       "      <td>54.2</td>\n",
       "      <td>6.0622</td>\n",
       "      <td>3</td>\n",
       "      <td>222</td>\n",
       "      <td>18.7</td>\n",
       "      <td>396.90</td>\n",
       "      <td>5.33</td>\n",
       "      <td>36.2</td>\n",
       "    </tr>\n",
       "    <tr>\n",
       "      <th>...</th>\n",
       "      <td>...</td>\n",
       "      <td>...</td>\n",
       "      <td>...</td>\n",
       "      <td>...</td>\n",
       "      <td>...</td>\n",
       "      <td>...</td>\n",
       "      <td>...</td>\n",
       "      <td>...</td>\n",
       "      <td>...</td>\n",
       "      <td>...</td>\n",
       "      <td>...</td>\n",
       "      <td>...</td>\n",
       "      <td>...</td>\n",
       "      <td>...</td>\n",
       "      <td>...</td>\n",
       "    </tr>\n",
       "    <tr>\n",
       "      <th>501</th>\n",
       "      <td>502</td>\n",
       "      <td>0.06263</td>\n",
       "      <td>0.0</td>\n",
       "      <td>11.93</td>\n",
       "      <td>0</td>\n",
       "      <td>0.573</td>\n",
       "      <td>6.593</td>\n",
       "      <td>69.1</td>\n",
       "      <td>2.4786</td>\n",
       "      <td>1</td>\n",
       "      <td>273</td>\n",
       "      <td>21.0</td>\n",
       "      <td>391.99</td>\n",
       "      <td>9.67</td>\n",
       "      <td>22.4</td>\n",
       "    </tr>\n",
       "    <tr>\n",
       "      <th>502</th>\n",
       "      <td>503</td>\n",
       "      <td>0.04527</td>\n",
       "      <td>0.0</td>\n",
       "      <td>11.93</td>\n",
       "      <td>0</td>\n",
       "      <td>0.573</td>\n",
       "      <td>6.120</td>\n",
       "      <td>76.7</td>\n",
       "      <td>2.2875</td>\n",
       "      <td>1</td>\n",
       "      <td>273</td>\n",
       "      <td>21.0</td>\n",
       "      <td>396.90</td>\n",
       "      <td>9.08</td>\n",
       "      <td>20.6</td>\n",
       "    </tr>\n",
       "    <tr>\n",
       "      <th>503</th>\n",
       "      <td>504</td>\n",
       "      <td>0.06076</td>\n",
       "      <td>0.0</td>\n",
       "      <td>11.93</td>\n",
       "      <td>0</td>\n",
       "      <td>0.573</td>\n",
       "      <td>6.976</td>\n",
       "      <td>91.0</td>\n",
       "      <td>2.1675</td>\n",
       "      <td>1</td>\n",
       "      <td>273</td>\n",
       "      <td>21.0</td>\n",
       "      <td>396.90</td>\n",
       "      <td>5.64</td>\n",
       "      <td>23.9</td>\n",
       "    </tr>\n",
       "    <tr>\n",
       "      <th>504</th>\n",
       "      <td>505</td>\n",
       "      <td>0.10959</td>\n",
       "      <td>0.0</td>\n",
       "      <td>11.93</td>\n",
       "      <td>0</td>\n",
       "      <td>0.573</td>\n",
       "      <td>6.794</td>\n",
       "      <td>89.3</td>\n",
       "      <td>2.3889</td>\n",
       "      <td>1</td>\n",
       "      <td>273</td>\n",
       "      <td>21.0</td>\n",
       "      <td>393.45</td>\n",
       "      <td>6.48</td>\n",
       "      <td>22.0</td>\n",
       "    </tr>\n",
       "    <tr>\n",
       "      <th>505</th>\n",
       "      <td>506</td>\n",
       "      <td>0.04741</td>\n",
       "      <td>0.0</td>\n",
       "      <td>11.93</td>\n",
       "      <td>0</td>\n",
       "      <td>0.573</td>\n",
       "      <td>6.030</td>\n",
       "      <td>80.8</td>\n",
       "      <td>2.5050</td>\n",
       "      <td>1</td>\n",
       "      <td>273</td>\n",
       "      <td>21.0</td>\n",
       "      <td>396.90</td>\n",
       "      <td>7.88</td>\n",
       "      <td>11.9</td>\n",
       "    </tr>\n",
       "  </tbody>\n",
       "</table>\n",
       "<p>506 rows × 15 columns</p>\n",
       "</div>"
      ],
      "text/plain": [
       "     Unnamed: 0     crim    zn  indus  chas    nox     rm   age     dis  rad  \\\n",
       "0             1  0.00632  18.0   2.31     0  0.538  6.575  65.2  4.0900    1   \n",
       "1             2  0.02731   0.0   7.07     0  0.469  6.421  78.9  4.9671    2   \n",
       "2             3  0.02729   0.0   7.07     0  0.469  7.185  61.1  4.9671    2   \n",
       "3             4  0.03237   0.0   2.18     0  0.458  6.998  45.8  6.0622    3   \n",
       "4             5  0.06905   0.0   2.18     0  0.458  7.147  54.2  6.0622    3   \n",
       "..          ...      ...   ...    ...   ...    ...    ...   ...     ...  ...   \n",
       "501         502  0.06263   0.0  11.93     0  0.573  6.593  69.1  2.4786    1   \n",
       "502         503  0.04527   0.0  11.93     0  0.573  6.120  76.7  2.2875    1   \n",
       "503         504  0.06076   0.0  11.93     0  0.573  6.976  91.0  2.1675    1   \n",
       "504         505  0.10959   0.0  11.93     0  0.573  6.794  89.3  2.3889    1   \n",
       "505         506  0.04741   0.0  11.93     0  0.573  6.030  80.8  2.5050    1   \n",
       "\n",
       "     tax  ptratio   black  lstat  medv  \n",
       "0    296     15.3  396.90   4.98  24.0  \n",
       "1    242     17.8  396.90   9.14  21.6  \n",
       "2    242     17.8  392.83   4.03  34.7  \n",
       "3    222     18.7  394.63   2.94  33.4  \n",
       "4    222     18.7  396.90   5.33  36.2  \n",
       "..   ...      ...     ...    ...   ...  \n",
       "501  273     21.0  391.99   9.67  22.4  \n",
       "502  273     21.0  396.90   9.08  20.6  \n",
       "503  273     21.0  396.90   5.64  23.9  \n",
       "504  273     21.0  393.45   6.48  22.0  \n",
       "505  273     21.0  396.90   7.88  11.9  \n",
       "\n",
       "[506 rows x 15 columns]"
      ]
     },
     "execution_count": 2,
     "metadata": {},
     "output_type": "execute_result"
    }
   ],
   "source": [
    "data=pd.read_csv(\"Boston.csv\")\n",
    "data"
   ]
  },
  {
   "cell_type": "code",
   "execution_count": 3,
   "metadata": {
    "colab": {
     "base_uri": "https://localhost:8080/"
    },
    "id": "WCyRqJhA3xky",
    "outputId": "308276d3-1801-4409-9c7c-35be89e93bde"
   },
   "outputs": [
    {
     "data": {
      "text/plain": [
       "Unnamed: 0      int64\n",
       "crim          float64\n",
       "zn            float64\n",
       "indus         float64\n",
       "chas            int64\n",
       "nox           float64\n",
       "rm            float64\n",
       "age           float64\n",
       "dis           float64\n",
       "rad             int64\n",
       "tax             int64\n",
       "ptratio       float64\n",
       "black         float64\n",
       "lstat         float64\n",
       "medv          float64\n",
       "dtype: object"
      ]
     },
     "execution_count": 3,
     "metadata": {},
     "output_type": "execute_result"
    }
   ],
   "source": [
    "data.dtypes"
   ]
  },
  {
   "cell_type": "code",
   "execution_count": 38,
   "metadata": {},
   "outputs": [
    {
     "data": {
      "text/html": [
       "<div>\n",
       "<style scoped>\n",
       "    .dataframe tbody tr th:only-of-type {\n",
       "        vertical-align: middle;\n",
       "    }\n",
       "\n",
       "    .dataframe tbody tr th {\n",
       "        vertical-align: top;\n",
       "    }\n",
       "\n",
       "    .dataframe thead th {\n",
       "        text-align: right;\n",
       "    }\n",
       "</style>\n",
       "<table border=\"1\" class=\"dataframe\">\n",
       "  <thead>\n",
       "    <tr style=\"text-align: right;\">\n",
       "      <th></th>\n",
       "      <th>Unnamed: 0</th>\n",
       "      <th>crim</th>\n",
       "      <th>zn</th>\n",
       "      <th>indus</th>\n",
       "      <th>chas</th>\n",
       "      <th>nox</th>\n",
       "      <th>rm</th>\n",
       "      <th>age</th>\n",
       "      <th>dis</th>\n",
       "      <th>rad</th>\n",
       "      <th>tax</th>\n",
       "      <th>ptratio</th>\n",
       "      <th>black</th>\n",
       "      <th>lstat</th>\n",
       "      <th>medv</th>\n",
       "    </tr>\n",
       "  </thead>\n",
       "  <tbody>\n",
       "    <tr>\n",
       "      <th>Unnamed: 0</th>\n",
       "      <td>1.000000</td>\n",
       "      <td>0.407407</td>\n",
       "      <td>-0.103393</td>\n",
       "      <td>0.399439</td>\n",
       "      <td>-0.003759</td>\n",
       "      <td>0.398736</td>\n",
       "      <td>-0.079971</td>\n",
       "      <td>0.203784</td>\n",
       "      <td>-0.302211</td>\n",
       "      <td>0.686002</td>\n",
       "      <td>0.666626</td>\n",
       "      <td>0.291074</td>\n",
       "      <td>-0.295041</td>\n",
       "      <td>0.258465</td>\n",
       "      <td>-0.226604</td>\n",
       "    </tr>\n",
       "    <tr>\n",
       "      <th>crim</th>\n",
       "      <td>0.407407</td>\n",
       "      <td>1.000000</td>\n",
       "      <td>-0.200469</td>\n",
       "      <td>0.406583</td>\n",
       "      <td>-0.055892</td>\n",
       "      <td>0.420972</td>\n",
       "      <td>-0.219247</td>\n",
       "      <td>0.352734</td>\n",
       "      <td>-0.379670</td>\n",
       "      <td>0.625505</td>\n",
       "      <td>0.582764</td>\n",
       "      <td>0.289946</td>\n",
       "      <td>-0.385064</td>\n",
       "      <td>0.455621</td>\n",
       "      <td>-0.388305</td>\n",
       "    </tr>\n",
       "    <tr>\n",
       "      <th>zn</th>\n",
       "      <td>-0.103393</td>\n",
       "      <td>-0.200469</td>\n",
       "      <td>1.000000</td>\n",
       "      <td>-0.533828</td>\n",
       "      <td>-0.042697</td>\n",
       "      <td>-0.516604</td>\n",
       "      <td>0.311991</td>\n",
       "      <td>-0.569537</td>\n",
       "      <td>0.664408</td>\n",
       "      <td>-0.311948</td>\n",
       "      <td>-0.314563</td>\n",
       "      <td>-0.391679</td>\n",
       "      <td>0.175520</td>\n",
       "      <td>-0.412995</td>\n",
       "      <td>0.360445</td>\n",
       "    </tr>\n",
       "    <tr>\n",
       "      <th>indus</th>\n",
       "      <td>0.399439</td>\n",
       "      <td>0.406583</td>\n",
       "      <td>-0.533828</td>\n",
       "      <td>1.000000</td>\n",
       "      <td>0.062938</td>\n",
       "      <td>0.763651</td>\n",
       "      <td>-0.391676</td>\n",
       "      <td>0.644779</td>\n",
       "      <td>-0.708027</td>\n",
       "      <td>0.595129</td>\n",
       "      <td>0.720760</td>\n",
       "      <td>0.383248</td>\n",
       "      <td>-0.356977</td>\n",
       "      <td>0.603800</td>\n",
       "      <td>-0.483725</td>\n",
       "    </tr>\n",
       "    <tr>\n",
       "      <th>chas</th>\n",
       "      <td>-0.003759</td>\n",
       "      <td>-0.055892</td>\n",
       "      <td>-0.042697</td>\n",
       "      <td>0.062938</td>\n",
       "      <td>1.000000</td>\n",
       "      <td>0.091203</td>\n",
       "      <td>0.091251</td>\n",
       "      <td>0.086518</td>\n",
       "      <td>-0.099176</td>\n",
       "      <td>-0.007368</td>\n",
       "      <td>-0.035587</td>\n",
       "      <td>-0.121515</td>\n",
       "      <td>0.048788</td>\n",
       "      <td>-0.053929</td>\n",
       "      <td>0.175260</td>\n",
       "    </tr>\n",
       "    <tr>\n",
       "      <th>nox</th>\n",
       "      <td>0.398736</td>\n",
       "      <td>0.420972</td>\n",
       "      <td>-0.516604</td>\n",
       "      <td>0.763651</td>\n",
       "      <td>0.091203</td>\n",
       "      <td>1.000000</td>\n",
       "      <td>-0.302188</td>\n",
       "      <td>0.731470</td>\n",
       "      <td>-0.769230</td>\n",
       "      <td>0.611441</td>\n",
       "      <td>0.668023</td>\n",
       "      <td>0.188933</td>\n",
       "      <td>-0.380051</td>\n",
       "      <td>0.590879</td>\n",
       "      <td>-0.427321</td>\n",
       "    </tr>\n",
       "    <tr>\n",
       "      <th>rm</th>\n",
       "      <td>-0.079971</td>\n",
       "      <td>-0.219247</td>\n",
       "      <td>0.311991</td>\n",
       "      <td>-0.391676</td>\n",
       "      <td>0.091251</td>\n",
       "      <td>-0.302188</td>\n",
       "      <td>1.000000</td>\n",
       "      <td>-0.240265</td>\n",
       "      <td>0.205246</td>\n",
       "      <td>-0.209847</td>\n",
       "      <td>-0.292048</td>\n",
       "      <td>-0.355501</td>\n",
       "      <td>0.128069</td>\n",
       "      <td>-0.613808</td>\n",
       "      <td>0.695360</td>\n",
       "    </tr>\n",
       "    <tr>\n",
       "      <th>age</th>\n",
       "      <td>0.203784</td>\n",
       "      <td>0.352734</td>\n",
       "      <td>-0.569537</td>\n",
       "      <td>0.644779</td>\n",
       "      <td>0.086518</td>\n",
       "      <td>0.731470</td>\n",
       "      <td>-0.240265</td>\n",
       "      <td>1.000000</td>\n",
       "      <td>-0.747881</td>\n",
       "      <td>0.456022</td>\n",
       "      <td>0.506456</td>\n",
       "      <td>0.261515</td>\n",
       "      <td>-0.273534</td>\n",
       "      <td>0.602339</td>\n",
       "      <td>-0.376955</td>\n",
       "    </tr>\n",
       "    <tr>\n",
       "      <th>dis</th>\n",
       "      <td>-0.302211</td>\n",
       "      <td>-0.379670</td>\n",
       "      <td>0.664408</td>\n",
       "      <td>-0.708027</td>\n",
       "      <td>-0.099176</td>\n",
       "      <td>-0.769230</td>\n",
       "      <td>0.205246</td>\n",
       "      <td>-0.747881</td>\n",
       "      <td>1.000000</td>\n",
       "      <td>-0.494588</td>\n",
       "      <td>-0.534432</td>\n",
       "      <td>-0.232471</td>\n",
       "      <td>0.291512</td>\n",
       "      <td>-0.496996</td>\n",
       "      <td>0.249929</td>\n",
       "    </tr>\n",
       "    <tr>\n",
       "      <th>rad</th>\n",
       "      <td>0.686002</td>\n",
       "      <td>0.625505</td>\n",
       "      <td>-0.311948</td>\n",
       "      <td>0.595129</td>\n",
       "      <td>-0.007368</td>\n",
       "      <td>0.611441</td>\n",
       "      <td>-0.209847</td>\n",
       "      <td>0.456022</td>\n",
       "      <td>-0.494588</td>\n",
       "      <td>1.000000</td>\n",
       "      <td>0.910228</td>\n",
       "      <td>0.464741</td>\n",
       "      <td>-0.444413</td>\n",
       "      <td>0.488676</td>\n",
       "      <td>-0.381626</td>\n",
       "    </tr>\n",
       "    <tr>\n",
       "      <th>tax</th>\n",
       "      <td>0.666626</td>\n",
       "      <td>0.582764</td>\n",
       "      <td>-0.314563</td>\n",
       "      <td>0.720760</td>\n",
       "      <td>-0.035587</td>\n",
       "      <td>0.668023</td>\n",
       "      <td>-0.292048</td>\n",
       "      <td>0.506456</td>\n",
       "      <td>-0.534432</td>\n",
       "      <td>0.910228</td>\n",
       "      <td>1.000000</td>\n",
       "      <td>0.460853</td>\n",
       "      <td>-0.441808</td>\n",
       "      <td>0.543993</td>\n",
       "      <td>-0.468536</td>\n",
       "    </tr>\n",
       "    <tr>\n",
       "      <th>ptratio</th>\n",
       "      <td>0.291074</td>\n",
       "      <td>0.289946</td>\n",
       "      <td>-0.391679</td>\n",
       "      <td>0.383248</td>\n",
       "      <td>-0.121515</td>\n",
       "      <td>0.188933</td>\n",
       "      <td>-0.355501</td>\n",
       "      <td>0.261515</td>\n",
       "      <td>-0.232471</td>\n",
       "      <td>0.464741</td>\n",
       "      <td>0.460853</td>\n",
       "      <td>1.000000</td>\n",
       "      <td>-0.177383</td>\n",
       "      <td>0.374044</td>\n",
       "      <td>-0.507787</td>\n",
       "    </tr>\n",
       "    <tr>\n",
       "      <th>black</th>\n",
       "      <td>-0.295041</td>\n",
       "      <td>-0.385064</td>\n",
       "      <td>0.175520</td>\n",
       "      <td>-0.356977</td>\n",
       "      <td>0.048788</td>\n",
       "      <td>-0.380051</td>\n",
       "      <td>0.128069</td>\n",
       "      <td>-0.273534</td>\n",
       "      <td>0.291512</td>\n",
       "      <td>-0.444413</td>\n",
       "      <td>-0.441808</td>\n",
       "      <td>-0.177383</td>\n",
       "      <td>1.000000</td>\n",
       "      <td>-0.366087</td>\n",
       "      <td>0.333461</td>\n",
       "    </tr>\n",
       "    <tr>\n",
       "      <th>lstat</th>\n",
       "      <td>0.258465</td>\n",
       "      <td>0.455621</td>\n",
       "      <td>-0.412995</td>\n",
       "      <td>0.603800</td>\n",
       "      <td>-0.053929</td>\n",
       "      <td>0.590879</td>\n",
       "      <td>-0.613808</td>\n",
       "      <td>0.602339</td>\n",
       "      <td>-0.496996</td>\n",
       "      <td>0.488676</td>\n",
       "      <td>0.543993</td>\n",
       "      <td>0.374044</td>\n",
       "      <td>-0.366087</td>\n",
       "      <td>1.000000</td>\n",
       "      <td>-0.737663</td>\n",
       "    </tr>\n",
       "    <tr>\n",
       "      <th>medv</th>\n",
       "      <td>-0.226604</td>\n",
       "      <td>-0.388305</td>\n",
       "      <td>0.360445</td>\n",
       "      <td>-0.483725</td>\n",
       "      <td>0.175260</td>\n",
       "      <td>-0.427321</td>\n",
       "      <td>0.695360</td>\n",
       "      <td>-0.376955</td>\n",
       "      <td>0.249929</td>\n",
       "      <td>-0.381626</td>\n",
       "      <td>-0.468536</td>\n",
       "      <td>-0.507787</td>\n",
       "      <td>0.333461</td>\n",
       "      <td>-0.737663</td>\n",
       "      <td>1.000000</td>\n",
       "    </tr>\n",
       "  </tbody>\n",
       "</table>\n",
       "</div>"
      ],
      "text/plain": [
       "            Unnamed: 0      crim        zn     indus      chas       nox  \\\n",
       "Unnamed: 0    1.000000  0.407407 -0.103393  0.399439 -0.003759  0.398736   \n",
       "crim          0.407407  1.000000 -0.200469  0.406583 -0.055892  0.420972   \n",
       "zn           -0.103393 -0.200469  1.000000 -0.533828 -0.042697 -0.516604   \n",
       "indus         0.399439  0.406583 -0.533828  1.000000  0.062938  0.763651   \n",
       "chas         -0.003759 -0.055892 -0.042697  0.062938  1.000000  0.091203   \n",
       "nox           0.398736  0.420972 -0.516604  0.763651  0.091203  1.000000   \n",
       "rm           -0.079971 -0.219247  0.311991 -0.391676  0.091251 -0.302188   \n",
       "age           0.203784  0.352734 -0.569537  0.644779  0.086518  0.731470   \n",
       "dis          -0.302211 -0.379670  0.664408 -0.708027 -0.099176 -0.769230   \n",
       "rad           0.686002  0.625505 -0.311948  0.595129 -0.007368  0.611441   \n",
       "tax           0.666626  0.582764 -0.314563  0.720760 -0.035587  0.668023   \n",
       "ptratio       0.291074  0.289946 -0.391679  0.383248 -0.121515  0.188933   \n",
       "black        -0.295041 -0.385064  0.175520 -0.356977  0.048788 -0.380051   \n",
       "lstat         0.258465  0.455621 -0.412995  0.603800 -0.053929  0.590879   \n",
       "medv         -0.226604 -0.388305  0.360445 -0.483725  0.175260 -0.427321   \n",
       "\n",
       "                  rm       age       dis       rad       tax   ptratio  \\\n",
       "Unnamed: 0 -0.079971  0.203784 -0.302211  0.686002  0.666626  0.291074   \n",
       "crim       -0.219247  0.352734 -0.379670  0.625505  0.582764  0.289946   \n",
       "zn          0.311991 -0.569537  0.664408 -0.311948 -0.314563 -0.391679   \n",
       "indus      -0.391676  0.644779 -0.708027  0.595129  0.720760  0.383248   \n",
       "chas        0.091251  0.086518 -0.099176 -0.007368 -0.035587 -0.121515   \n",
       "nox        -0.302188  0.731470 -0.769230  0.611441  0.668023  0.188933   \n",
       "rm          1.000000 -0.240265  0.205246 -0.209847 -0.292048 -0.355501   \n",
       "age        -0.240265  1.000000 -0.747881  0.456022  0.506456  0.261515   \n",
       "dis         0.205246 -0.747881  1.000000 -0.494588 -0.534432 -0.232471   \n",
       "rad        -0.209847  0.456022 -0.494588  1.000000  0.910228  0.464741   \n",
       "tax        -0.292048  0.506456 -0.534432  0.910228  1.000000  0.460853   \n",
       "ptratio    -0.355501  0.261515 -0.232471  0.464741  0.460853  1.000000   \n",
       "black       0.128069 -0.273534  0.291512 -0.444413 -0.441808 -0.177383   \n",
       "lstat      -0.613808  0.602339 -0.496996  0.488676  0.543993  0.374044   \n",
       "medv        0.695360 -0.376955  0.249929 -0.381626 -0.468536 -0.507787   \n",
       "\n",
       "               black     lstat      medv  \n",
       "Unnamed: 0 -0.295041  0.258465 -0.226604  \n",
       "crim       -0.385064  0.455621 -0.388305  \n",
       "zn          0.175520 -0.412995  0.360445  \n",
       "indus      -0.356977  0.603800 -0.483725  \n",
       "chas        0.048788 -0.053929  0.175260  \n",
       "nox        -0.380051  0.590879 -0.427321  \n",
       "rm          0.128069 -0.613808  0.695360  \n",
       "age        -0.273534  0.602339 -0.376955  \n",
       "dis         0.291512 -0.496996  0.249929  \n",
       "rad        -0.444413  0.488676 -0.381626  \n",
       "tax        -0.441808  0.543993 -0.468536  \n",
       "ptratio    -0.177383  0.374044 -0.507787  \n",
       "black       1.000000 -0.366087  0.333461  \n",
       "lstat      -0.366087  1.000000 -0.737663  \n",
       "medv        0.333461 -0.737663  1.000000  "
      ]
     },
     "execution_count": 38,
     "metadata": {},
     "output_type": "execute_result"
    }
   ],
   "source": [
    "data.corr()"
   ]
  },
  {
   "cell_type": "code",
   "execution_count": 4,
   "metadata": {
    "colab": {
     "base_uri": "https://localhost:8080/"
    },
    "id": "5W3QvLAM4ZbL",
    "outputId": "d3ebc35b-1b62-43fd-95a1-9c80bb1152b7"
   },
   "outputs": [
    {
     "data": {
      "text/plain": [
       "(15, 15)"
      ]
     },
     "execution_count": 4,
     "metadata": {},
     "output_type": "execute_result"
    }
   ],
   "source": [
    "# Finding out the correlation between the features\n",
    "corr = data.corr()\n",
    "corr.shape"
   ]
  },
  {
   "cell_type": "code",
   "execution_count": 5,
   "metadata": {
    "colab": {
     "base_uri": "https://localhost:8080/",
     "height": 1000
    },
    "id": "DVlRtwzjYVSj",
    "outputId": "db58ae13-d1e7-4841-bcc9-48a56b2b3a81"
   },
   "outputs": [
    {
     "data": {
      "text/plain": [
       "<matplotlib.axes._subplots.AxesSubplot at 0x2db29676670>"
      ]
     },
     "execution_count": 5,
     "metadata": {},
     "output_type": "execute_result"
    },
    {
     "data": {
      "image/png": "[encoded data removed]",
      "text/plain": [
       "<Figure size 1440x1440 with 2 Axes>"
      ]
     },
     "metadata": {
      "needs_background": "light"
     },
     "output_type": "display_data"
    }
   ],
   "source": [
    "# Plotting the heatmap of correlation between features\n",
    "plt.figure(figsize=(20,20))\n",
    "sns.heatmap(corr, cbar=True, square= True, fmt='.1f', annot=True, annot_kws={'size':15}, cmap='gray')"
   ]
  },
  {
   "cell_type": "code",
   "execution_count": 6,
   "metadata": {
    "id": "LH2Xlkg39DCd"
   },
   "outputs": [],
   "source": [
    "X =data.drop(['medv'], axis = 1)# data['area']#\n",
    "y = data['medv']"
   ]
  },
  {
   "cell_type": "code",
   "execution_count": 7,
   "metadata": {
    "colab": {
     "base_uri": "https://localhost:8080/",
     "height": 423
    },
    "id": "L3n5Zu814jct",
    "outputId": "c751a783-8cc1-456a-dca2-71d0acc47695"
   },
   "outputs": [
    {
     "data": {
      "text/html": [
       "<div>\n",
       "<style scoped>\n",
       "    .dataframe tbody tr th:only-of-type {\n",
       "        vertical-align: middle;\n",
       "    }\n",
       "\n",
       "    .dataframe tbody tr th {\n",
       "        vertical-align: top;\n",
       "    }\n",
       "\n",
       "    .dataframe thead th {\n",
       "        text-align: right;\n",
       "    }\n",
       "</style>\n",
       "<table border=\"1\" class=\"dataframe\">\n",
       "  <thead>\n",
       "    <tr style=\"text-align: right;\">\n",
       "      <th></th>\n",
       "      <th>Unnamed: 0</th>\n",
       "      <th>crim</th>\n",
       "      <th>zn</th>\n",
       "      <th>indus</th>\n",
       "      <th>chas</th>\n",
       "      <th>nox</th>\n",
       "      <th>rm</th>\n",
       "      <th>age</th>\n",
       "      <th>dis</th>\n",
       "      <th>rad</th>\n",
       "      <th>tax</th>\n",
       "      <th>ptratio</th>\n",
       "      <th>black</th>\n",
       "      <th>lstat</th>\n",
       "    </tr>\n",
       "  </thead>\n",
       "  <tbody>\n",
       "    <tr>\n",
       "      <th>0</th>\n",
       "      <td>1</td>\n",
       "      <td>0.00632</td>\n",
       "      <td>18.0</td>\n",
       "      <td>2.31</td>\n",
       "      <td>0</td>\n",
       "      <td>0.538</td>\n",
       "      <td>6.575</td>\n",
       "      <td>65.2</td>\n",
       "      <td>4.0900</td>\n",
       "      <td>1</td>\n",
       "      <td>296</td>\n",
       "      <td>15.3</td>\n",
       "      <td>396.90</td>\n",
       "      <td>4.98</td>\n",
       "    </tr>\n",
       "    <tr>\n",
       "      <th>1</th>\n",
       "      <td>2</td>\n",
       "      <td>0.02731</td>\n",
       "      <td>0.0</td>\n",
       "      <td>7.07</td>\n",
       "      <td>0</td>\n",
       "      <td>0.469</td>\n",
       "      <td>6.421</td>\n",
       "      <td>78.9</td>\n",
       "      <td>4.9671</td>\n",
       "      <td>2</td>\n",
       "      <td>242</td>\n",
       "      <td>17.8</td>\n",
       "      <td>396.90</td>\n",
       "      <td>9.14</td>\n",
       "    </tr>\n",
       "    <tr>\n",
       "      <th>2</th>\n",
       "      <td>3</td>\n",
       "      <td>0.02729</td>\n",
       "      <td>0.0</td>\n",
       "      <td>7.07</td>\n",
       "      <td>0</td>\n",
       "      <td>0.469</td>\n",
       "      <td>7.185</td>\n",
       "      <td>61.1</td>\n",
       "      <td>4.9671</td>\n",
       "      <td>2</td>\n",
       "      <td>242</td>\n",
       "      <td>17.8</td>\n",
       "      <td>392.83</td>\n",
       "      <td>4.03</td>\n",
       "    </tr>\n",
       "    <tr>\n",
       "      <th>3</th>\n",
       "      <td>4</td>\n",
       "      <td>0.03237</td>\n",
       "      <td>0.0</td>\n",
       "      <td>2.18</td>\n",
       "      <td>0</td>\n",
       "      <td>0.458</td>\n",
       "      <td>6.998</td>\n",
       "      <td>45.8</td>\n",
       "      <td>6.0622</td>\n",
       "      <td>3</td>\n",
       "      <td>222</td>\n",
       "      <td>18.7</td>\n",
       "      <td>394.63</td>\n",
       "      <td>2.94</td>\n",
       "    </tr>\n",
       "    <tr>\n",
       "      <th>4</th>\n",
       "      <td>5</td>\n",
       "      <td>0.06905</td>\n",
       "      <td>0.0</td>\n",
       "      <td>2.18</td>\n",
       "      <td>0</td>\n",
       "      <td>0.458</td>\n",
       "      <td>7.147</td>\n",
       "      <td>54.2</td>\n",
       "      <td>6.0622</td>\n",
       "      <td>3</td>\n",
       "      <td>222</td>\n",
       "      <td>18.7</td>\n",
       "      <td>396.90</td>\n",
       "      <td>5.33</td>\n",
       "    </tr>\n",
       "    <tr>\n",
       "      <th>...</th>\n",
       "      <td>...</td>\n",
       "      <td>...</td>\n",
       "      <td>...</td>\n",
       "      <td>...</td>\n",
       "      <td>...</td>\n",
       "      <td>...</td>\n",
       "      <td>...</td>\n",
       "      <td>...</td>\n",
       "      <td>...</td>\n",
       "      <td>...</td>\n",
       "      <td>...</td>\n",
       "      <td>...</td>\n",
       "      <td>...</td>\n",
       "      <td>...</td>\n",
       "    </tr>\n",
       "    <tr>\n",
       "      <th>501</th>\n",
       "      <td>502</td>\n",
       "      <td>0.06263</td>\n",
       "      <td>0.0</td>\n",
       "      <td>11.93</td>\n",
       "      <td>0</td>\n",
       "      <td>0.573</td>\n",
       "      <td>6.593</td>\n",
       "      <td>69.1</td>\n",
       "      <td>2.4786</td>\n",
       "      <td>1</td>\n",
       "      <td>273</td>\n",
       "      <td>21.0</td>\n",
       "      <td>391.99</td>\n",
       "      <td>9.67</td>\n",
       "    </tr>\n",
       "    <tr>\n",
       "      <th>502</th>\n",
       "      <td>503</td>\n",
       "      <td>0.04527</td>\n",
       "      <td>0.0</td>\n",
       "      <td>11.93</td>\n",
       "      <td>0</td>\n",
       "      <td>0.573</td>\n",
       "      <td>6.120</td>\n",
       "      <td>76.7</td>\n",
       "      <td>2.2875</td>\n",
       "      <td>1</td>\n",
       "      <td>273</td>\n",
       "      <td>21.0</td>\n",
       "      <td>396.90</td>\n",
       "      <td>9.08</td>\n",
       "    </tr>\n",
       "    <tr>\n",
       "      <th>503</th>\n",
       "      <td>504</td>\n",
       "      <td>0.06076</td>\n",
       "      <td>0.0</td>\n",
       "      <td>11.93</td>\n",
       "      <td>0</td>\n",
       "      <td>0.573</td>\n",
       "      <td>6.976</td>\n",
       "      <td>91.0</td>\n",
       "      <td>2.1675</td>\n",
       "      <td>1</td>\n",
       "      <td>273</td>\n",
       "      <td>21.0</td>\n",
       "      <td>396.90</td>\n",
       "      <td>5.64</td>\n",
       "    </tr>\n",
       "    <tr>\n",
       "      <th>504</th>\n",
       "      <td>505</td>\n",
       "      <td>0.10959</td>\n",
       "      <td>0.0</td>\n",
       "      <td>11.93</td>\n",
       "      <td>0</td>\n",
       "      <td>0.573</td>\n",
       "      <td>6.794</td>\n",
       "      <td>89.3</td>\n",
       "      <td>2.3889</td>\n",
       "      <td>1</td>\n",
       "      <td>273</td>\n",
       "      <td>21.0</td>\n",
       "      <td>393.45</td>\n",
       "      <td>6.48</td>\n",
       "    </tr>\n",
       "    <tr>\n",
       "      <th>505</th>\n",
       "      <td>506</td>\n",
       "      <td>0.04741</td>\n",
       "      <td>0.0</td>\n",
       "      <td>11.93</td>\n",
       "      <td>0</td>\n",
       "      <td>0.573</td>\n",
       "      <td>6.030</td>\n",
       "      <td>80.8</td>\n",
       "      <td>2.5050</td>\n",
       "      <td>1</td>\n",
       "      <td>273</td>\n",
       "      <td>21.0</td>\n",
       "      <td>396.90</td>\n",
       "      <td>7.88</td>\n",
       "    </tr>\n",
       "  </tbody>\n",
       "</table>\n",
       "<p>506 rows × 14 columns</p>\n",
       "</div>"
      ],
      "text/plain": [
       "     Unnamed: 0     crim    zn  indus  chas    nox     rm   age     dis  rad  \\\n",
       "0             1  0.00632  18.0   2.31     0  0.538  6.575  65.2  4.0900    1   \n",
       "1             2  0.02731   0.0   7.07     0  0.469  6.421  78.9  4.9671    2   \n",
       "2             3  0.02729   0.0   7.07     0  0.469  7.185  61.1  4.9671    2   \n",
       "3             4  0.03237   0.0   2.18     0  0.458  6.998  45.8  6.0622    3   \n",
       "4             5  0.06905   0.0   2.18     0  0.458  7.147  54.2  6.0622    3   \n",
       "..          ...      ...   ...    ...   ...    ...    ...   ...     ...  ...   \n",
       "501         502  0.06263   0.0  11.93     0  0.573  6.593  69.1  2.4786    1   \n",
       "502         503  0.04527   0.0  11.93     0  0.573  6.120  76.7  2.2875    1   \n",
       "503         504  0.06076   0.0  11.93     0  0.573  6.976  91.0  2.1675    1   \n",
       "504         505  0.10959   0.0  11.93     0  0.573  6.794  89.3  2.3889    1   \n",
       "505         506  0.04741   0.0  11.93     0  0.573  6.030  80.8  2.5050    1   \n",
       "\n",
       "     tax  ptratio   black  lstat  \n",
       "0    296     15.3  396.90   4.98  \n",
       "1    242     17.8  396.90   9.14  \n",
       "2    242     17.8  392.83   4.03  \n",
       "3    222     18.7  394.63   2.94  \n",
       "4    222     18.7  396.90   5.33  \n",
       "..   ...      ...     ...    ...  \n",
       "501  273     21.0  391.99   9.67  \n",
       "502  273     21.0  396.90   9.08  \n",
       "503  273     21.0  396.90   5.64  \n",
       "504  273     21.0  393.45   6.48  \n",
       "505  273     21.0  396.90   7.88  \n",
       "\n",
       "[506 rows x 14 columns]"
      ]
     },
     "execution_count": 7,
     "metadata": {},
     "output_type": "execute_result"
    }
   ],
   "source": [
    "X"
   ]
  },
  {
   "cell_type": "code",
   "execution_count": 8,
   "metadata": {
    "colab": {
     "base_uri": "https://localhost:8080/"
    },
    "id": "PI8TfdnD6sUU",
    "outputId": "3de23ed8-ebd5-4ce2-998d-26585a5c8647"
   },
   "outputs": [
    {
     "data": {
      "text/plain": [
       "Index(['Unnamed: 0', 'crim', 'zn', 'indus', 'chas', 'nox', 'rm', 'age', 'dis',\n",
       "       'rad', 'tax', 'ptratio', 'black', 'lstat'],\n",
       "      dtype='object')"
      ]
     },
     "execution_count": 8,
     "metadata": {},
     "output_type": "execute_result"
    }
   ],
   "source": [
    "X.columns"
   ]
  },
  {
   "cell_type": "code",
   "execution_count": 9,
   "metadata": {
    "colab": {
     "base_uri": "https://localhost:8080/"
    },
    "id": "M-I3VI6k4lXx",
    "outputId": "4af849d1-edd8-47a9-9665-0f5c6c04b7a1"
   },
   "outputs": [
    {
     "data": {
      "text/plain": [
       "0      24.0\n",
       "1      21.6\n",
       "2      34.7\n",
       "3      33.4\n",
       "4      36.2\n",
       "       ... \n",
       "501    22.4\n",
       "502    20.6\n",
       "503    23.9\n",
       "504    22.0\n",
       "505    11.9\n",
       "Name: medv, Length: 506, dtype: float64"
      ]
     },
     "execution_count": 9,
     "metadata": {},
     "output_type": "execute_result"
    }
   ],
   "source": [
    "y"
   ]
  },
  {
   "cell_type": "code",
   "execution_count": 10,
   "metadata": {
    "colab": {
     "base_uri": "https://localhost:8080/"
    },
    "id": "SwNighhPK8Nk",
    "outputId": "80aa6513-731a-475c-f0a7-ed352ceda9ef"
   },
   "outputs": [
    {
     "data": {
      "text/plain": [
       "count    506.000000\n",
       "mean      22.532806\n",
       "std        9.197104\n",
       "min        5.000000\n",
       "25%       17.025000\n",
       "50%       21.200000\n",
       "75%       25.000000\n",
       "max       50.000000\n",
       "Name: medv, dtype: float64"
      ]
     },
     "execution_count": 10,
     "metadata": {},
     "output_type": "execute_result"
    }
   ],
   "source": [
    "y.describe()"
   ]
  },
  {
   "cell_type": "code",
   "execution_count": 11,
   "metadata": {
    "id": "RSKfjIU65U9z"
   },
   "outputs": [],
   "source": [
    "# Splitting to training and testing data\n",
    "\n",
    "from sklearn.model_selection import train_test_split\n",
    "X_train, X_test, y_train, y_test = train_test_split(X,y, test_size = 0.3, random_state = 4)"
   ]
  },
  {
   "cell_type": "code",
   "execution_count": 12,
   "metadata": {
    "id": "Mi1yV5s2SyLk"
   },
   "outputs": [],
   "source": [
    "from sklearn.preprocessing import MinMaxScaler\n",
    "# Instantiate the scaler and fit to training dataset, X_train\n",
    "scaler = MinMaxScaler()\n",
    "scaler.fit(X_train)\n",
    "\n",
    "# Replace unscaled values with scaled values\n",
    "X_train = scaler.transform(X_train)\n",
    "X_test = scaler.transform(X_test)"
   ]
  },
  {
   "cell_type": "code",
   "execution_count": null,
   "metadata": {
    "id": "VpszVjssV_6J"
   },
   "outputs": [],
   "source": []
  },
  {
   "cell_type": "code",
   "execution_count": 13,
   "metadata": {
    "id": "iVDjodrV41Nv"
   },
   "outputs": [],
   "source": [
    "from tensorflow.keras.models import Sequential\n",
    "from tensorflow.keras.layers import Dense\n",
    "from tensorflow.keras.layers import Dropout"
   ]
  },
  {
   "cell_type": "code",
   "execution_count": 14,
   "metadata": {
    "id": "Hci9V1bK5BE_"
   },
   "outputs": [],
   "source": [
    "model = Sequential()\n",
    "model.add(Dense(64, input_dim =14, activation = 'relu'))\n",
    "model.add(Dropout(0.15))\n",
    "model.add(Dense(64, activation = 'relu'))\n",
    "model.add(Dropout(0.2))\n",
    "model.add(Dense(40, activation = 'relu'))\n",
    "model.add(Dropout(0.15))\n",
    "model.add(Dense(54, activation = 'relu'))\n",
    "model.add(Dropout(0.18))\n",
    "model.add(Dense(1))"
   ]
  },
  {
   "cell_type": "code",
   "execution_count": 15,
   "metadata": {
    "id": "977kOPGV5NwX"
   },
   "outputs": [],
   "source": [
    "model.compile(optimizer = 'adam', loss = 'mean_squared_error', metrics = ['mse', 'mae'])"
   ]
  },
  {
   "cell_type": "code",
   "execution_count": 16,
   "metadata": {
    "colab": {
     "base_uri": "https://localhost:8080/"
    },
    "id": "dkfNQ7re5RwD",
    "outputId": "610606be-83f7-4826-c343-7d9a8d4c91fb"
   },
   "outputs": [
    {
     "name": "stdout",
     "output_type": "stream",
     "text": [
      "Epoch 1/200\n",
      "9/9 [==============================] - 3s 53ms/step - loss: 545.0709 - mse: 545.0709 - mae: 21.6854 - val_loss: 553.7529 - val_mse: 553.7529 - val_mae: 21.7713\n",
      "Epoch 2/200\n",
      "9/9 [==============================] - 0s 12ms/step - loss: 504.6282 - mse: 504.6282 - mae: 20.7199 - val_loss: 503.4345 - val_mse: 503.4345 - val_mae: 20.5705\n",
      "Epoch 3/200\n",
      "9/9 [==============================] - 0s 11ms/step - loss: 442.5716 - mse: 442.5716 - mae: 19.1068 - val_loss: 416.7231 - val_mse: 416.7231 - val_mae: 18.2958\n",
      "Epoch 4/200\n",
      "9/9 [==============================] - 0s 11ms/step - loss: 335.6369 - mse: 335.6369 - mae: 15.8524 - val_loss: 266.8848 - val_mse: 266.8848 - val_mae: 13.7713\n",
      "Epoch 5/200\n",
      "9/9 [==============================] - 0s 13ms/step - loss: 182.6868 - mse: 182.6868 - mae: 10.7581 - val_loss: 114.2326 - val_mse: 114.2326 - val_mae: 8.2423\n",
      "Epoch 6/200\n",
      "9/9 [==============================] - 0s 14ms/step - loss: 140.3240 - mse: 140.3240 - mae: 9.0485 - val_loss: 98.3706 - val_mse: 98.3706 - val_mae: 7.4756\n",
      "Epoch 7/200\n",
      "9/9 [==============================] - 0s 13ms/step - loss: 116.4873 - mse: 116.4873 - mae: 8.3185 - val_loss: 91.2413 - val_mse: 91.2413 - val_mae: 6.9047\n",
      "Epoch 8/200\n",
      "9/9 [==============================] - 0s 14ms/step - loss: 115.1496 - mse: 115.1496 - mae: 8.1171 - val_loss: 91.7891 - val_mse: 91.7891 - val_mae: 6.9216\n",
      "Epoch 9/200\n",
      "9/9 [==============================] - 0s 15ms/step - loss: 91.2421 - mse: 91.2421 - mae: 7.3280 - val_loss: 70.2059 - val_mse: 70.2059 - val_mae: 5.6277\n",
      "Epoch 10/200\n",
      "9/9 [==============================] - 0s 14ms/step - loss: 86.5366 - mse: 86.5366 - mae: 7.1131 - val_loss: 60.7407 - val_mse: 60.7407 - val_mae: 5.2033\n",
      "Epoch 11/200\n",
      "9/9 [==============================] - 0s 12ms/step - loss: 77.9881 - mse: 77.9881 - mae: 6.4916 - val_loss: 65.2648 - val_mse: 65.2648 - val_mae: 5.0907\n",
      "Epoch 12/200\n",
      "9/9 [==============================] - 0s 12ms/step - loss: 75.4364 - mse: 75.4364 - mae: 6.5334 - val_loss: 57.6499 - val_mse: 57.6499 - val_mae: 4.7456\n",
      "Epoch 13/200\n",
      "9/9 [==============================] - 0s 12ms/step - loss: 66.5612 - mse: 66.5612 - mae: 6.0942 - val_loss: 53.7792 - val_mse: 53.7792 - val_mae: 4.6193\n",
      "Epoch 14/200\n",
      "9/9 [==============================] - 0s 12ms/step - loss: 63.5018 - mse: 63.5018 - mae: 5.8516 - val_loss: 52.0451 - val_mse: 52.0451 - val_mae: 4.5576\n",
      "Epoch 15/200\n",
      "9/9 [==============================] - 0s 12ms/step - loss: 57.1636 - mse: 57.1636 - mae: 5.6960 - val_loss: 53.1418 - val_mse: 53.1418 - val_mae: 4.3858\n",
      "Epoch 16/200\n",
      "9/9 [==============================] - 0s 13ms/step - loss: 59.5555 - mse: 59.5555 - mae: 5.6988 - val_loss: 51.4671 - val_mse: 51.4671 - val_mae: 4.3332\n",
      "Epoch 17/200\n",
      "9/9 [==============================] - 0s 13ms/step - loss: 49.4368 - mse: 49.4368 - mae: 5.1806 - val_loss: 48.3838 - val_mse: 48.3838 - val_mae: 4.4013\n",
      "Epoch 18/200\n",
      "9/9 [==============================] - 0s 12ms/step - loss: 51.1851 - mse: 51.1851 - mae: 5.3339 - val_loss: 50.9420 - val_mse: 50.9420 - val_mae: 4.1947\n",
      "Epoch 19/200\n",
      "9/9 [==============================] - 0s 11ms/step - loss: 43.6317 - mse: 43.6317 - mae: 4.9929 - val_loss: 44.9279 - val_mse: 44.9279 - val_mae: 4.3176\n",
      "Epoch 20/200\n",
      "9/9 [==============================] - 0s 12ms/step - loss: 49.6639 - mse: 49.6639 - mae: 5.3662 - val_loss: 46.0887 - val_mse: 46.0887 - val_mae: 4.0217\n",
      "Epoch 21/200\n",
      "9/9 [==============================] - 0s 12ms/step - loss: 44.3017 - mse: 44.3017 - mae: 4.9729 - val_loss: 42.6104 - val_mse: 42.6104 - val_mae: 4.0218\n",
      "Epoch 22/200\n",
      "9/9 [==============================] - 0s 13ms/step - loss: 44.2902 - mse: 44.2902 - mae: 5.0078 - val_loss: 42.4622 - val_mse: 42.4622 - val_mae: 3.8778\n",
      "Epoch 23/200\n",
      "9/9 [==============================] - 0s 14ms/step - loss: 38.2576 - mse: 38.2576 - mae: 4.7801 - val_loss: 41.6855 - val_mse: 41.6855 - val_mae: 3.8339\n",
      "Epoch 24/200\n",
      "9/9 [==============================] - 0s 12ms/step - loss: 34.9400 - mse: 34.9400 - mae: 4.3800 - val_loss: 38.7496 - val_mse: 38.7496 - val_mae: 3.8974\n",
      "Epoch 25/200\n",
      "9/9 [==============================] - 0s 12ms/step - loss: 40.9081 - mse: 40.9081 - mae: 4.8945 - val_loss: 38.3155 - val_mse: 38.3155 - val_mae: 3.7841\n",
      "Epoch 26/200\n",
      "9/9 [==============================] - 0s 13ms/step - loss: 35.2096 - mse: 35.2096 - mae: 4.4937 - val_loss: 43.6734 - val_mse: 43.6734 - val_mae: 3.8091\n",
      "Epoch 27/200\n",
      "9/9 [==============================] - 0s 13ms/step - loss: 39.7655 - mse: 39.7655 - mae: 4.6644 - val_loss: 36.0680 - val_mse: 36.0680 - val_mae: 3.8669\n",
      "Epoch 28/200\n",
      "9/9 [==============================] - 0s 13ms/step - loss: 35.0649 - mse: 35.0649 - mae: 4.4446 - val_loss: 37.0421 - val_mse: 37.0421 - val_mae: 3.6971\n",
      "Epoch 29/200\n",
      "9/9 [==============================] - 0s 11ms/step - loss: 35.0229 - mse: 35.0229 - mae: 4.4229 - val_loss: 35.5746 - val_mse: 35.5746 - val_mae: 3.8826\n",
      "Epoch 30/200\n",
      "9/9 [==============================] - 0s 13ms/step - loss: 38.5781 - mse: 38.5781 - mae: 4.5645 - val_loss: 40.4055 - val_mse: 40.4055 - val_mae: 3.7164\n",
      "Epoch 31/200\n",
      "9/9 [==============================] - 0s 11ms/step - loss: 36.9592 - mse: 36.9592 - mae: 4.5691 - val_loss: 33.4324 - val_mse: 33.4324 - val_mae: 3.6393\n",
      "Epoch 32/200\n",
      "9/9 [==============================] - 0s 13ms/step - loss: 32.7372 - mse: 32.7372 - mae: 4.4112 - val_loss: 35.1184 - val_mse: 35.1184 - val_mae: 3.5405\n",
      "Epoch 33/200\n",
      "9/9 [==============================] - 0s 10ms/step - loss: 31.5496 - mse: 31.5496 - mae: 4.2981 - val_loss: 31.8539 - val_mse: 31.8539 - val_mae: 3.4772\n",
      "Epoch 34/200\n",
      "9/9 [==============================] - 0s 12ms/step - loss: 32.2227 - mse: 32.2227 - mae: 4.3397 - val_loss: 31.6518 - val_mse: 31.6518 - val_mae: 3.4771\n",
      "Epoch 35/200\n",
      "9/9 [==============================] - 0s 13ms/step - loss: 34.4733 - mse: 34.4733 - mae: 4.4390 - val_loss: 35.9559 - val_mse: 35.9559 - val_mae: 3.5131\n",
      "Epoch 36/200\n",
      "9/9 [==============================] - 0s 13ms/step - loss: 31.2302 - mse: 31.2302 - mae: 4.3095 - val_loss: 31.3187 - val_mse: 31.3187 - val_mae: 3.5483\n",
      "Epoch 37/200\n",
      "9/9 [==============================] - 0s 12ms/step - loss: 28.3366 - mse: 28.3366 - mae: 3.9362 - val_loss: 31.7327 - val_mse: 31.7327 - val_mae: 3.5350\n",
      "Epoch 38/200\n",
      "9/9 [==============================] - 0s 12ms/step - loss: 36.7287 - mse: 36.7287 - mae: 4.3395 - val_loss: 32.6503 - val_mse: 32.6503 - val_mae: 3.4404\n",
      "Epoch 39/200\n",
      "9/9 [==============================] - 0s 11ms/step - loss: 29.6999 - mse: 29.6999 - mae: 4.1477 - val_loss: 30.8166 - val_mse: 30.8166 - val_mae: 3.3452\n",
      "Epoch 40/200\n",
      "9/9 [==============================] - 0s 12ms/step - loss: 31.6796 - mse: 31.6796 - mae: 4.1525 - val_loss: 29.4102 - val_mse: 29.4102 - val_mae: 3.3317\n",
      "Epoch 41/200\n",
      "9/9 [==============================] - 0s 13ms/step - loss: 31.6992 - mse: 31.6992 - mae: 4.1602 - val_loss: 30.8982 - val_mse: 30.8982 - val_mae: 3.2945\n",
      "Epoch 42/200\n",
      "9/9 [==============================] - 0s 14ms/step - loss: 25.6938 - mse: 25.6938 - mae: 3.8480 - val_loss: 28.5591 - val_mse: 28.5591 - val_mae: 3.3801\n",
      "Epoch 43/200\n",
      "9/9 [==============================] - 0s 12ms/step - loss: 24.1025 - mse: 24.1025 - mae: 3.7953 - val_loss: 29.2599 - val_mse: 29.2599 - val_mae: 3.2692\n",
      "Epoch 44/200\n",
      "9/9 [==============================] - 0s 12ms/step - loss: 27.7931 - mse: 27.7931 - mae: 3.9116 - val_loss: 30.8957 - val_mse: 30.8957 - val_mae: 3.2560\n",
      "Epoch 45/200\n",
      "9/9 [==============================] - 0s 11ms/step - loss: 29.3449 - mse: 29.3449 - mae: 4.0003 - val_loss: 28.9386 - val_mse: 28.9386 - val_mae: 3.3364\n",
      "Epoch 46/200\n",
      "9/9 [==============================] - 0s 13ms/step - loss: 29.0151 - mse: 29.0151 - mae: 3.9698 - val_loss: 30.6068 - val_mse: 30.6068 - val_mae: 3.2396\n",
      "Epoch 47/200\n",
      "9/9 [==============================] - 0s 14ms/step - loss: 31.8642 - mse: 31.8642 - mae: 4.3140 - val_loss: 27.5885 - val_mse: 27.5885 - val_mae: 3.3594\n",
      "Epoch 48/200\n",
      "9/9 [==============================] - 0s 11ms/step - loss: 31.5208 - mse: 31.5208 - mae: 4.1257 - val_loss: 31.8757 - val_mse: 31.8757 - val_mae: 3.2819\n",
      "Epoch 49/200\n",
      "9/9 [==============================] - 0s 12ms/step - loss: 33.2813 - mse: 33.2813 - mae: 4.2152 - val_loss: 28.1434 - val_mse: 28.1434 - val_mae: 3.4569\n"
     ]
    },
    {
     "name": "stdout",
     "output_type": "stream",
     "text": [
      "Epoch 50/200\n",
      "9/9 [==============================] - 0s 12ms/step - loss: 31.9255 - mse: 31.9255 - mae: 4.1141 - val_loss: 32.3361 - val_mse: 32.3361 - val_mae: 3.3486\n",
      "Epoch 51/200\n",
      "9/9 [==============================] - 0s 11ms/step - loss: 27.3720 - mse: 27.3720 - mae: 3.9340 - val_loss: 27.6521 - val_mse: 27.6521 - val_mae: 3.4831\n",
      "Epoch 52/200\n",
      "9/9 [==============================] - 0s 11ms/step - loss: 32.0127 - mse: 32.0127 - mae: 4.2786 - val_loss: 33.2187 - val_mse: 33.2187 - val_mae: 3.4439\n",
      "Epoch 53/200\n",
      "9/9 [==============================] - 0s 12ms/step - loss: 29.6535 - mse: 29.6535 - mae: 3.9919 - val_loss: 27.3903 - val_mse: 27.3903 - val_mae: 3.2223\n",
      "Epoch 54/200\n",
      "9/9 [==============================] - 0s 12ms/step - loss: 31.5056 - mse: 31.5056 - mae: 4.2462 - val_loss: 27.1177 - val_mse: 27.1177 - val_mae: 3.1866\n",
      "Epoch 55/200\n",
      "9/9 [==============================] - 0s 10ms/step - loss: 30.2960 - mse: 30.2960 - mae: 4.0461 - val_loss: 26.8471 - val_mse: 26.8471 - val_mae: 3.1736\n",
      "Epoch 56/200\n",
      "9/9 [==============================] - 0s 10ms/step - loss: 27.4835 - mse: 27.4835 - mae: 3.9661 - val_loss: 27.1076 - val_mse: 27.1076 - val_mae: 3.1554\n",
      "Epoch 57/200\n",
      "9/9 [==============================] - 0s 12ms/step - loss: 27.9099 - mse: 27.9099 - mae: 4.0554 - val_loss: 32.2115 - val_mse: 32.2115 - val_mae: 3.4542\n",
      "Epoch 58/200\n",
      "9/9 [==============================] - 0s 10ms/step - loss: 25.6023 - mse: 25.6023 - mae: 3.7281 - val_loss: 25.0925 - val_mse: 25.0925 - val_mae: 3.0947\n",
      "Epoch 59/200\n",
      "9/9 [==============================] - 0s 9ms/step - loss: 31.4417 - mse: 31.4417 - mae: 4.0633 - val_loss: 28.2495 - val_mse: 28.2495 - val_mae: 3.1652\n",
      "Epoch 60/200\n",
      "9/9 [==============================] - 0s 11ms/step - loss: 25.9726 - mse: 25.9726 - mae: 3.8413 - val_loss: 25.1129 - val_mse: 25.1129 - val_mae: 3.0678\n",
      "Epoch 61/200\n",
      "9/9 [==============================] - 0s 10ms/step - loss: 26.4210 - mse: 26.4210 - mae: 3.9568 - val_loss: 27.5362 - val_mse: 27.5362 - val_mae: 3.0741\n",
      "Epoch 62/200\n",
      "9/9 [==============================] - 0s 12ms/step - loss: 28.1298 - mse: 28.1298 - mae: 4.0615 - val_loss: 24.6009 - val_mse: 24.6009 - val_mae: 3.0665\n",
      "Epoch 63/200\n",
      "9/9 [==============================] - 0s 11ms/step - loss: 23.6283 - mse: 23.6283 - mae: 3.7381 - val_loss: 27.1806 - val_mse: 27.1806 - val_mae: 3.1094\n",
      "Epoch 64/200\n",
      "9/9 [==============================] - 0s 12ms/step - loss: 23.2923 - mse: 23.2923 - mae: 3.7045 - val_loss: 23.9448 - val_mse: 23.9448 - val_mae: 3.0311\n",
      "Epoch 65/200\n",
      "9/9 [==============================] - 0s 11ms/step - loss: 24.4177 - mse: 24.4177 - mae: 3.7530 - val_loss: 25.4962 - val_mse: 25.4962 - val_mae: 3.0188\n",
      "Epoch 66/200\n",
      "9/9 [==============================] - 0s 11ms/step - loss: 23.1290 - mse: 23.1290 - mae: 3.5685 - val_loss: 24.2640 - val_mse: 24.2640 - val_mae: 2.9875\n",
      "Epoch 67/200\n",
      "9/9 [==============================] - 0s 11ms/step - loss: 24.0987 - mse: 24.0987 - mae: 3.6539 - val_loss: 24.8825 - val_mse: 24.8825 - val_mae: 3.0245\n",
      "Epoch 68/200\n",
      "9/9 [==============================] - 0s 12ms/step - loss: 22.8992 - mse: 22.8992 - mae: 3.6535 - val_loss: 25.0662 - val_mse: 25.0662 - val_mae: 3.0402\n",
      "Epoch 69/200\n",
      "9/9 [==============================] - 0s 10ms/step - loss: 24.0857 - mse: 24.0857 - mae: 3.6490 - val_loss: 25.2808 - val_mse: 25.2808 - val_mae: 3.0604\n",
      "Epoch 70/200\n",
      "9/9 [==============================] - 0s 10ms/step - loss: 26.6162 - mse: 26.6162 - mae: 3.7215 - val_loss: 26.4222 - val_mse: 26.4222 - val_mae: 3.1005\n",
      "Epoch 71/200\n",
      "9/9 [==============================] - 0s 12ms/step - loss: 23.4156 - mse: 23.4156 - mae: 3.5317 - val_loss: 23.5090 - val_mse: 23.5090 - val_mae: 3.1647\n",
      "Epoch 72/200\n",
      "9/9 [==============================] - 0s 11ms/step - loss: 25.0096 - mse: 25.0096 - mae: 3.8504 - val_loss: 25.1626 - val_mse: 25.1626 - val_mae: 3.0184\n",
      "Epoch 73/200\n",
      "9/9 [==============================] - 0s 12ms/step - loss: 26.0406 - mse: 26.0406 - mae: 3.8788 - val_loss: 24.3908 - val_mse: 24.3908 - val_mae: 3.0220\n",
      "Epoch 74/200\n",
      "9/9 [==============================] - 0s 10ms/step - loss: 25.6112 - mse: 25.6112 - mae: 3.7864 - val_loss: 24.6754 - val_mse: 24.6754 - val_mae: 3.0474\n",
      "Epoch 75/200\n",
      "9/9 [==============================] - 0s 11ms/step - loss: 22.2322 - mse: 22.2322 - mae: 3.4962 - val_loss: 23.8306 - val_mse: 23.8306 - val_mae: 3.0246\n",
      "Epoch 76/200\n",
      "9/9 [==============================] - 0s 11ms/step - loss: 25.7683 - mse: 25.7683 - mae: 3.6760 - val_loss: 25.6262 - val_mse: 25.6262 - val_mae: 3.0720\n",
      "Epoch 77/200\n",
      "9/9 [==============================] - 0s 11ms/step - loss: 21.3261 - mse: 21.3261 - mae: 3.4790 - val_loss: 23.2641 - val_mse: 23.2641 - val_mae: 2.9395\n",
      "Epoch 78/200\n",
      "9/9 [==============================] - 0s 12ms/step - loss: 24.9120 - mse: 24.9120 - mae: 3.7100 - val_loss: 25.4122 - val_mse: 25.4122 - val_mae: 3.0256\n",
      "Epoch 79/200\n",
      "9/9 [==============================] - 0s 10ms/step - loss: 21.8998 - mse: 21.8998 - mae: 3.4557 - val_loss: 22.2951 - val_mse: 22.2951 - val_mae: 2.9035\n",
      "Epoch 80/200\n",
      "9/9 [==============================] - 0s 11ms/step - loss: 26.5906 - mse: 26.5906 - mae: 3.6281 - val_loss: 24.6386 - val_mse: 24.6386 - val_mae: 3.0006\n",
      "Epoch 81/200\n",
      "9/9 [==============================] - 0s 11ms/step - loss: 23.4725 - mse: 23.4725 - mae: 3.7402 - val_loss: 21.6496 - val_mse: 21.6496 - val_mae: 2.9066\n",
      "Epoch 82/200\n",
      "9/9 [==============================] - 0s 10ms/step - loss: 26.9080 - mse: 26.9080 - mae: 3.8051 - val_loss: 22.4618 - val_mse: 22.4618 - val_mae: 2.8418\n",
      "Epoch 83/200\n",
      "9/9 [==============================] - 0s 11ms/step - loss: 23.5539 - mse: 23.5539 - mae: 3.6353 - val_loss: 22.1515 - val_mse: 22.1515 - val_mae: 2.8143\n",
      "Epoch 84/200\n",
      "9/9 [==============================] - 0s 12ms/step - loss: 20.1679 - mse: 20.1679 - mae: 3.3307 - val_loss: 22.2073 - val_mse: 22.2073 - val_mae: 2.8497\n",
      "Epoch 85/200\n",
      "9/9 [==============================] - 0s 13ms/step - loss: 22.7912 - mse: 22.7912 - mae: 3.5765 - val_loss: 23.3376 - val_mse: 23.3376 - val_mae: 2.8785\n",
      "Epoch 86/200\n",
      "9/9 [==============================] - 0s 11ms/step - loss: 24.2058 - mse: 24.2058 - mae: 3.6954 - val_loss: 24.5699 - val_mse: 24.5699 - val_mae: 3.0325\n",
      "Epoch 87/200\n",
      "9/9 [==============================] - 0s 12ms/step - loss: 22.4827 - mse: 22.4827 - mae: 3.6472 - val_loss: 21.5649 - val_mse: 21.5649 - val_mae: 2.8995\n",
      "Epoch 88/200\n",
      "9/9 [==============================] - 0s 11ms/step - loss: 23.6165 - mse: 23.6165 - mae: 3.6647 - val_loss: 27.0931 - val_mse: 27.0931 - val_mae: 3.2512\n",
      "Epoch 89/200\n",
      "9/9 [==============================] - 0s 12ms/step - loss: 20.8014 - mse: 20.8014 - mae: 3.4994 - val_loss: 22.3659 - val_mse: 22.3659 - val_mae: 2.8992\n",
      "Epoch 90/200\n",
      "9/9 [==============================] - 0s 12ms/step - loss: 22.6621 - mse: 22.6621 - mae: 3.4859 - val_loss: 23.3664 - val_mse: 23.3664 - val_mae: 2.8330\n",
      "Epoch 91/200\n",
      "9/9 [==============================] - 0s 11ms/step - loss: 22.0528 - mse: 22.0528 - mae: 3.4715 - val_loss: 21.9578 - val_mse: 21.9578 - val_mae: 2.8118\n",
      "Epoch 92/200\n",
      "9/9 [==============================] - 0s 10ms/step - loss: 22.7787 - mse: 22.7787 - mae: 3.5773 - val_loss: 23.3575 - val_mse: 23.3575 - val_mae: 2.8385\n",
      "Epoch 93/200\n",
      "9/9 [==============================] - 0s 12ms/step - loss: 22.9574 - mse: 22.9574 - mae: 3.5408 - val_loss: 21.4455 - val_mse: 21.4455 - val_mae: 2.8319\n",
      "Epoch 94/200\n",
      "9/9 [==============================] - 0s 12ms/step - loss: 23.1210 - mse: 23.1210 - mae: 3.5426 - val_loss: 22.6047 - val_mse: 22.6047 - val_mae: 2.8338\n",
      "Epoch 95/200\n",
      "9/9 [==============================] - 0s 11ms/step - loss: 18.7323 - mse: 18.7323 - mae: 3.2070 - val_loss: 22.7892 - val_mse: 22.7892 - val_mae: 2.8782\n",
      "Epoch 96/200\n",
      "9/9 [==============================] - 0s 11ms/step - loss: 17.5260 - mse: 17.5260 - mae: 3.2577 - val_loss: 23.7235 - val_mse: 23.7235 - val_mae: 2.9037\n",
      "Epoch 97/200\n",
      "9/9 [==============================] - 0s 10ms/step - loss: 22.5287 - mse: 22.5287 - mae: 3.5211 - val_loss: 23.2887 - val_mse: 23.2887 - val_mae: 2.9607\n",
      "Epoch 98/200\n",
      "9/9 [==============================] - 0s 11ms/step - loss: 21.6884 - mse: 21.6884 - mae: 3.4058 - val_loss: 23.6193 - val_mse: 23.6193 - val_mae: 2.8700\n",
      "Epoch 99/200\n"
     ]
    },
    {
     "name": "stdout",
     "output_type": "stream",
     "text": [
      "9/9 [==============================] - 0s 11ms/step - loss: 24.1348 - mse: 24.1348 - mae: 3.5497 - val_loss: 19.9709 - val_mse: 19.9709 - val_mae: 2.8656\n",
      "Epoch 100/200\n",
      "9/9 [==============================] - 0s 12ms/step - loss: 22.3838 - mse: 22.3838 - mae: 3.4638 - val_loss: 21.8371 - val_mse: 21.8371 - val_mae: 2.7591\n",
      "Epoch 101/200\n",
      "9/9 [==============================] - 0s 12ms/step - loss: 21.7487 - mse: 21.7487 - mae: 3.5317 - val_loss: 20.4038 - val_mse: 20.4038 - val_mae: 2.6985\n",
      "Epoch 102/200\n",
      "9/9 [==============================] - 0s 12ms/step - loss: 20.9686 - mse: 20.9686 - mae: 3.5755 - val_loss: 21.1391 - val_mse: 21.1391 - val_mae: 2.7349\n",
      "Epoch 103/200\n",
      "9/9 [==============================] - 0s 11ms/step - loss: 23.9031 - mse: 23.9031 - mae: 3.6677 - val_loss: 23.5542 - val_mse: 23.5542 - val_mae: 2.8692\n",
      "Epoch 104/200\n",
      "9/9 [==============================] - 0s 9ms/step - loss: 19.8706 - mse: 19.8706 - mae: 3.3847 - val_loss: 21.8758 - val_mse: 21.8758 - val_mae: 2.7843\n",
      "Epoch 105/200\n",
      "9/9 [==============================] - 0s 12ms/step - loss: 19.5819 - mse: 19.5819 - mae: 3.3280 - val_loss: 23.5853 - val_mse: 23.5853 - val_mae: 2.8757\n",
      "Epoch 106/200\n",
      "9/9 [==============================] - 0s 12ms/step - loss: 20.6374 - mse: 20.6374 - mae: 3.3097 - val_loss: 21.0559 - val_mse: 21.0559 - val_mae: 2.7341\n",
      "Epoch 107/200\n",
      "9/9 [==============================] - 0s 12ms/step - loss: 20.5187 - mse: 20.5187 - mae: 3.4301 - val_loss: 23.1365 - val_mse: 23.1365 - val_mae: 2.8196\n",
      "Epoch 108/200\n",
      "9/9 [==============================] - 0s 12ms/step - loss: 23.9400 - mse: 23.9400 - mae: 3.6517 - val_loss: 22.5950 - val_mse: 22.5950 - val_mae: 2.7892\n",
      "Epoch 109/200\n",
      "9/9 [==============================] - 0s 11ms/step - loss: 20.7160 - mse: 20.7160 - mae: 3.3784 - val_loss: 22.5494 - val_mse: 22.5494 - val_mae: 2.8030\n",
      "Epoch 110/200\n",
      "9/9 [==============================] - 0s 12ms/step - loss: 22.4243 - mse: 22.4243 - mae: 3.6424 - val_loss: 22.4821 - val_mse: 22.4821 - val_mae: 2.8029\n",
      "Epoch 111/200\n",
      "9/9 [==============================] - 0s 12ms/step - loss: 23.2463 - mse: 23.2463 - mae: 3.5069 - val_loss: 21.9351 - val_mse: 21.9351 - val_mae: 2.7412\n",
      "Epoch 112/200\n",
      "9/9 [==============================] - 0s 12ms/step - loss: 21.6570 - mse: 21.6570 - mae: 3.4979 - val_loss: 19.6172 - val_mse: 19.6172 - val_mae: 2.6924\n",
      "Epoch 113/200\n",
      "9/9 [==============================] - 0s 11ms/step - loss: 19.2632 - mse: 19.2632 - mae: 3.2200 - val_loss: 22.4363 - val_mse: 22.4363 - val_mae: 2.8408\n",
      "Epoch 114/200\n",
      "9/9 [==============================] - 0s 12ms/step - loss: 20.2798 - mse: 20.2798 - mae: 3.3795 - val_loss: 20.2656 - val_mse: 20.2656 - val_mae: 2.6521\n",
      "Epoch 115/200\n",
      "9/9 [==============================] - 0s 13ms/step - loss: 19.2228 - mse: 19.2228 - mae: 3.3173 - val_loss: 22.0816 - val_mse: 22.0816 - val_mae: 2.7409\n",
      "Epoch 116/200\n",
      "9/9 [==============================] - 0s 10ms/step - loss: 22.7974 - mse: 22.7974 - mae: 3.4645 - val_loss: 21.9393 - val_mse: 21.9393 - val_mae: 2.7011\n",
      "Epoch 117/200\n",
      "9/9 [==============================] - 0s 12ms/step - loss: 19.2953 - mse: 19.2953 - mae: 3.2101 - val_loss: 21.6443 - val_mse: 21.6443 - val_mae: 2.6985\n",
      "Epoch 118/200\n",
      "9/9 [==============================] - 0s 11ms/step - loss: 20.1427 - mse: 20.1427 - mae: 3.4067 - val_loss: 23.1862 - val_mse: 23.1862 - val_mae: 2.8848\n",
      "Epoch 119/200\n",
      "9/9 [==============================] - 0s 10ms/step - loss: 18.2840 - mse: 18.2840 - mae: 3.1899 - val_loss: 19.6780 - val_mse: 19.6780 - val_mae: 2.7448\n",
      "Epoch 120/200\n",
      "9/9 [==============================] - 0s 11ms/step - loss: 19.1207 - mse: 19.1207 - mae: 3.3792 - val_loss: 20.8931 - val_mse: 20.8931 - val_mae: 2.6459\n",
      "Epoch 121/200\n",
      "9/9 [==============================] - 0s 11ms/step - loss: 20.8492 - mse: 20.8492 - mae: 3.2834 - val_loss: 18.8783 - val_mse: 18.8783 - val_mae: 2.6069\n",
      "Epoch 122/200\n",
      "9/9 [==============================] - 0s 12ms/step - loss: 22.9194 - mse: 22.9194 - mae: 3.5740 - val_loss: 21.2557 - val_mse: 21.2557 - val_mae: 2.7644\n",
      "Epoch 123/200\n",
      "9/9 [==============================] - 0s 10ms/step - loss: 18.5966 - mse: 18.5966 - mae: 3.2418 - val_loss: 19.8923 - val_mse: 19.8923 - val_mae: 2.6769\n",
      "Epoch 124/200\n",
      "9/9 [==============================] - 0s 12ms/step - loss: 22.0911 - mse: 22.0911 - mae: 3.6043 - val_loss: 19.9450 - val_mse: 19.9450 - val_mae: 2.6363\n",
      "Epoch 125/200\n",
      "9/9 [==============================] - 0s 12ms/step - loss: 19.6777 - mse: 19.6777 - mae: 3.3322 - val_loss: 19.5202 - val_mse: 19.5202 - val_mae: 2.6513\n",
      "Epoch 126/200\n",
      "9/9 [==============================] - 0s 12ms/step - loss: 17.8160 - mse: 17.8160 - mae: 3.3213 - val_loss: 18.9935 - val_mse: 18.9935 - val_mae: 2.6085\n",
      "Epoch 127/200\n",
      "9/9 [==============================] - 0s 11ms/step - loss: 17.5416 - mse: 17.5416 - mae: 3.2602 - val_loss: 21.1046 - val_mse: 21.1046 - val_mae: 2.7100\n",
      "Epoch 128/200\n",
      "9/9 [==============================] - 0s 12ms/step - loss: 18.6404 - mse: 18.6404 - mae: 3.1883 - val_loss: 18.5801 - val_mse: 18.5801 - val_mae: 2.6029\n",
      "Epoch 129/200\n",
      "9/9 [==============================] - 0s 14ms/step - loss: 18.7821 - mse: 18.7821 - mae: 3.2210 - val_loss: 20.6375 - val_mse: 20.6375 - val_mae: 2.6678\n",
      "Epoch 130/200\n",
      "9/9 [==============================] - 0s 12ms/step - loss: 18.7794 - mse: 18.7794 - mae: 3.1639 - val_loss: 19.0724 - val_mse: 19.0724 - val_mae: 2.5396\n",
      "Epoch 131/200\n",
      "9/9 [==============================] - 0s 13ms/step - loss: 19.1888 - mse: 19.1888 - mae: 3.2422 - val_loss: 18.8717 - val_mse: 18.8717 - val_mae: 2.5012\n",
      "Epoch 132/200\n",
      "9/9 [==============================] - 0s 13ms/step - loss: 16.5860 - mse: 16.5860 - mae: 3.0017 - val_loss: 18.4551 - val_mse: 18.4551 - val_mae: 2.4751\n",
      "Epoch 133/200\n",
      "9/9 [==============================] - 0s 13ms/step - loss: 19.3285 - mse: 19.3285 - mae: 3.2445 - val_loss: 21.2445 - val_mse: 21.2445 - val_mae: 2.6973\n",
      "Epoch 134/200\n",
      "9/9 [==============================] - 0s 13ms/step - loss: 20.6598 - mse: 20.6598 - mae: 3.2983 - val_loss: 18.9090 - val_mse: 18.9090 - val_mae: 2.5690\n",
      "Epoch 135/200\n",
      "9/9 [==============================] - 0s 13ms/step - loss: 19.3794 - mse: 19.3794 - mae: 3.3359 - val_loss: 20.0998 - val_mse: 20.0998 - val_mae: 2.5701\n",
      "Epoch 136/200\n",
      "9/9 [==============================] - 0s 10ms/step - loss: 15.6854 - mse: 15.6854 - mae: 3.0427 - val_loss: 18.1502 - val_mse: 18.1502 - val_mae: 2.4825\n",
      "Epoch 137/200\n",
      "9/9 [==============================] - 0s 12ms/step - loss: 18.6076 - mse: 18.6076 - mae: 3.2500 - val_loss: 19.8132 - val_mse: 19.8132 - val_mae: 2.6520\n",
      "Epoch 138/200\n",
      "9/9 [==============================] - 0s 12ms/step - loss: 17.9632 - mse: 17.9632 - mae: 3.1987 - val_loss: 16.7868 - val_mse: 16.7868 - val_mae: 2.4506\n",
      "Epoch 139/200\n",
      "9/9 [==============================] - 0s 12ms/step - loss: 19.0920 - mse: 19.0920 - mae: 3.3064 - val_loss: 19.3334 - val_mse: 19.3334 - val_mae: 2.5624\n",
      "Epoch 140/200\n",
      "9/9 [==============================] - 0s 12ms/step - loss: 18.5130 - mse: 18.5130 - mae: 3.2259 - val_loss: 19.4786 - val_mse: 19.4786 - val_mae: 2.6051\n",
      "Epoch 141/200\n",
      "9/9 [==============================] - 0s 11ms/step - loss: 17.6220 - mse: 17.6220 - mae: 3.2330 - val_loss: 17.4598 - val_mse: 17.4598 - val_mae: 2.4875\n",
      "Epoch 142/200\n",
      "9/9 [==============================] - 0s 12ms/step - loss: 15.3196 - mse: 15.3196 - mae: 2.9771 - val_loss: 18.4510 - val_mse: 18.4510 - val_mae: 2.5304\n",
      "Epoch 143/200\n",
      "9/9 [==============================] - 0s 10ms/step - loss: 18.7870 - mse: 18.7870 - mae: 3.2946 - val_loss: 20.7125 - val_mse: 20.7125 - val_mae: 2.7238\n",
      "Epoch 144/200\n",
      "9/9 [==============================] - 0s 11ms/step - loss: 20.1688 - mse: 20.1688 - mae: 3.2858 - val_loss: 19.3209 - val_mse: 19.3209 - val_mae: 2.5839\n",
      "Epoch 145/200\n",
      "9/9 [==============================] - 0s 11ms/step - loss: 20.0031 - mse: 20.0031 - mae: 3.1921 - val_loss: 17.5782 - val_mse: 17.5782 - val_mae: 2.4760\n",
      "Epoch 146/200\n",
      "9/9 [==============================] - 0s 11ms/step - loss: 17.2530 - mse: 17.2530 - mae: 3.0993 - val_loss: 18.7996 - val_mse: 18.7996 - val_mae: 2.6365\n",
      "Epoch 147/200\n",
      "9/9 [==============================] - 0s 12ms/step - loss: 16.1974 - mse: 16.1974 - mae: 3.1128 - val_loss: 17.8538 - val_mse: 17.8538 - val_mae: 2.5084\n"
     ]
    },
    {
     "name": "stdout",
     "output_type": "stream",
     "text": [
      "Epoch 148/200\n",
      "9/9 [==============================] - 0s 12ms/step - loss: 19.5777 - mse: 19.5777 - mae: 3.3441 - val_loss: 17.6717 - val_mse: 17.6717 - val_mae: 2.5003\n",
      "Epoch 149/200\n",
      "9/9 [==============================] - 0s 12ms/step - loss: 18.7917 - mse: 18.7917 - mae: 3.1336 - val_loss: 17.9573 - val_mse: 17.9573 - val_mae: 2.5434\n",
      "Epoch 150/200\n",
      "9/9 [==============================] - 0s 11ms/step - loss: 19.9019 - mse: 19.9019 - mae: 3.2807 - val_loss: 22.3666 - val_mse: 22.3666 - val_mae: 2.9386\n",
      "Epoch 151/200\n",
      "9/9 [==============================] - 0s 12ms/step - loss: 20.7560 - mse: 20.7560 - mae: 3.4281 - val_loss: 17.2280 - val_mse: 17.2280 - val_mae: 2.5686\n",
      "Epoch 152/200\n",
      "9/9 [==============================] - 0s 11ms/step - loss: 19.8392 - mse: 19.8392 - mae: 3.3190 - val_loss: 24.8055 - val_mse: 24.8055 - val_mae: 3.1353\n",
      "Epoch 153/200\n",
      "9/9 [==============================] - 0s 12ms/step - loss: 22.9202 - mse: 22.9202 - mae: 3.5385 - val_loss: 17.5325 - val_mse: 17.5325 - val_mae: 2.5010\n",
      "Epoch 154/200\n",
      "9/9 [==============================] - 0s 10ms/step - loss: 17.8083 - mse: 17.8083 - mae: 3.2230 - val_loss: 21.4398 - val_mse: 21.4398 - val_mae: 2.7667\n",
      "Epoch 155/200\n",
      "9/9 [==============================] - 0s 11ms/step - loss: 14.8030 - mse: 14.8030 - mae: 2.9022 - val_loss: 17.4663 - val_mse: 17.4663 - val_mae: 2.4221\n",
      "Epoch 156/200\n",
      "9/9 [==============================] - 0s 11ms/step - loss: 16.7015 - mse: 16.7015 - mae: 3.1794 - val_loss: 20.3326 - val_mse: 20.3326 - val_mae: 2.6536\n",
      "Epoch 157/200\n",
      "9/9 [==============================] - 0s 11ms/step - loss: 20.8753 - mse: 20.8753 - mae: 3.2911 - val_loss: 17.4246 - val_mse: 17.4246 - val_mae: 2.4309\n",
      "Epoch 158/200\n",
      "9/9 [==============================] - 0s 12ms/step - loss: 18.0516 - mse: 18.0516 - mae: 3.1658 - val_loss: 20.0573 - val_mse: 20.0573 - val_mae: 2.6243\n",
      "Epoch 159/200\n",
      "9/9 [==============================] - 0s 13ms/step - loss: 19.9669 - mse: 19.9669 - mae: 3.3475 - val_loss: 16.3179 - val_mse: 16.3179 - val_mae: 2.4616\n",
      "Epoch 160/200\n",
      "9/9 [==============================] - 0s 12ms/step - loss: 21.1980 - mse: 21.1980 - mae: 3.4303 - val_loss: 20.1310 - val_mse: 20.1310 - val_mae: 2.6406\n",
      "Epoch 161/200\n",
      "9/9 [==============================] - 0s 13ms/step - loss: 16.5937 - mse: 16.5937 - mae: 2.9806 - val_loss: 17.0325 - val_mse: 17.0325 - val_mae: 2.3893\n",
      "Epoch 162/200\n",
      "9/9 [==============================] - 0s 13ms/step - loss: 15.0153 - mse: 15.0153 - mae: 2.9561 - val_loss: 17.6728 - val_mse: 17.6728 - val_mae: 2.4154\n",
      "Epoch 163/200\n",
      "9/9 [==============================] - 0s 11ms/step - loss: 15.9480 - mse: 15.9480 - mae: 2.9162 - val_loss: 17.5591 - val_mse: 17.5591 - val_mae: 2.3954\n",
      "Epoch 164/200\n",
      "9/9 [==============================] - 0s 13ms/step - loss: 20.3873 - mse: 20.3873 - mae: 3.2368 - val_loss: 17.9549 - val_mse: 17.9549 - val_mae: 2.4156\n",
      "Epoch 165/200\n",
      "9/9 [==============================] - 0s 12ms/step - loss: 18.5944 - mse: 18.5944 - mae: 3.1511 - val_loss: 18.7583 - val_mse: 18.7583 - val_mae: 2.4752\n",
      "Epoch 166/200\n",
      "9/9 [==============================] - 0s 14ms/step - loss: 18.9592 - mse: 18.9592 - mae: 3.2597 - val_loss: 18.0927 - val_mse: 18.0927 - val_mae: 2.4572\n",
      "Epoch 167/200\n",
      "9/9 [==============================] - 0s 15ms/step - loss: 17.1965 - mse: 17.1965 - mae: 3.1262 - val_loss: 20.1487 - val_mse: 20.1487 - val_mae: 2.5605\n",
      "Epoch 168/200\n",
      "9/9 [==============================] - 0s 15ms/step - loss: 15.4164 - mse: 15.4164 - mae: 3.0406 - val_loss: 18.9690 - val_mse: 18.9690 - val_mae: 2.5034\n",
      "Epoch 169/200\n",
      "9/9 [==============================] - 0s 15ms/step - loss: 18.0978 - mse: 18.0978 - mae: 3.1387 - val_loss: 19.3096 - val_mse: 19.3096 - val_mae: 2.5190\n",
      "Epoch 170/200\n",
      "9/9 [==============================] - 0s 17ms/step - loss: 18.7063 - mse: 18.7063 - mae: 3.2169 - val_loss: 19.2996 - val_mse: 19.2996 - val_mae: 2.5306\n",
      "Epoch 171/200\n",
      "9/9 [==============================] - 0s 18ms/step - loss: 17.4524 - mse: 17.4524 - mae: 3.1736 - val_loss: 16.7701 - val_mse: 16.7701 - val_mae: 2.3264\n",
      "Epoch 172/200\n",
      "9/9 [==============================] - 0s 16ms/step - loss: 13.4134 - mse: 13.4134 - mae: 2.8203 - val_loss: 20.1918 - val_mse: 20.1918 - val_mae: 2.6549\n",
      "Epoch 173/200\n",
      "9/9 [==============================] - 0s 14ms/step - loss: 16.7319 - mse: 16.7319 - mae: 3.0900 - val_loss: 17.6371 - val_mse: 17.6371 - val_mae: 2.4108\n",
      "Epoch 174/200\n",
      "9/9 [==============================] - 0s 15ms/step - loss: 15.4503 - mse: 15.4503 - mae: 2.8901 - val_loss: 16.5453 - val_mse: 16.5453 - val_mae: 2.4065\n",
      "Epoch 175/200\n",
      "9/9 [==============================] - 0s 14ms/step - loss: 17.8327 - mse: 17.8327 - mae: 3.0700 - val_loss: 22.6362 - val_mse: 22.6362 - val_mae: 2.8860\n",
      "Epoch 176/200\n",
      "9/9 [==============================] - 0s 11ms/step - loss: 16.0406 - mse: 16.0406 - mae: 3.0680 - val_loss: 17.4690 - val_mse: 17.4690 - val_mae: 2.4291\n",
      "Epoch 177/200\n",
      "9/9 [==============================] - 0s 15ms/step - loss: 16.5891 - mse: 16.5891 - mae: 3.0310 - val_loss: 19.7585 - val_mse: 19.7585 - val_mae: 2.5240\n",
      "Epoch 178/200\n",
      "9/9 [==============================] - 0s 14ms/step - loss: 14.2001 - mse: 14.2001 - mae: 2.9353 - val_loss: 18.0982 - val_mse: 18.0982 - val_mae: 2.3940\n",
      "Epoch 179/200\n",
      "9/9 [==============================] - 0s 14ms/step - loss: 12.9294 - mse: 12.9294 - mae: 2.7638 - val_loss: 17.6222 - val_mse: 17.6222 - val_mae: 2.3770\n",
      "Epoch 180/200\n",
      "9/9 [==============================] - 0s 14ms/step - loss: 15.4993 - mse: 15.4993 - mae: 3.1103 - val_loss: 17.7692 - val_mse: 17.7692 - val_mae: 2.4039\n",
      "Epoch 181/200\n",
      "9/9 [==============================] - 0s 13ms/step - loss: 15.0735 - mse: 15.0735 - mae: 2.9679 - val_loss: 18.6134 - val_mse: 18.6134 - val_mae: 2.4600\n",
      "Epoch 182/200\n",
      "9/9 [==============================] - 0s 14ms/step - loss: 14.7435 - mse: 14.7435 - mae: 2.9838 - val_loss: 19.4138 - val_mse: 19.4138 - val_mae: 2.5465\n",
      "Epoch 183/200\n",
      "9/9 [==============================] - 0s 15ms/step - loss: 19.2665 - mse: 19.2665 - mae: 3.2204 - val_loss: 16.9218 - val_mse: 16.9218 - val_mae: 2.3820\n",
      "Epoch 184/200\n",
      "9/9 [==============================] - 0s 15ms/step - loss: 15.8339 - mse: 15.8339 - mae: 3.0685 - val_loss: 19.1649 - val_mse: 19.1649 - val_mae: 2.4825\n",
      "Epoch 185/200\n",
      "9/9 [==============================] - 0s 15ms/step - loss: 17.8953 - mse: 17.8953 - mae: 3.1114 - val_loss: 18.6733 - val_mse: 18.6733 - val_mae: 2.4385\n",
      "Epoch 186/200\n",
      "9/9 [==============================] - 0s 14ms/step - loss: 15.9875 - mse: 15.9875 - mae: 3.0676 - val_loss: 18.5564 - val_mse: 18.5564 - val_mae: 2.4712\n",
      "Epoch 187/200\n",
      "9/9 [==============================] - 0s 15ms/step - loss: 15.6921 - mse: 15.6921 - mae: 2.9580 - val_loss: 17.9588 - val_mse: 17.9588 - val_mae: 2.4296\n",
      "Epoch 188/200\n",
      "9/9 [==============================] - 0s 17ms/step - loss: 19.2363 - mse: 19.2363 - mae: 3.2523 - val_loss: 17.6189 - val_mse: 17.6189 - val_mae: 2.3961\n",
      "Epoch 189/200\n",
      "9/9 [==============================] - 0s 17ms/step - loss: 15.5500 - mse: 15.5500 - mae: 3.0159 - val_loss: 19.6493 - val_mse: 19.6493 - val_mae: 2.5715\n",
      "Epoch 190/200\n",
      "9/9 [==============================] - 0s 17ms/step - loss: 13.0320 - mse: 13.0320 - mae: 2.6626 - val_loss: 16.8937 - val_mse: 16.8937 - val_mae: 2.3537\n",
      "Epoch 191/200\n",
      "9/9 [==============================] - 0s 15ms/step - loss: 15.3452 - mse: 15.3452 - mae: 2.9024 - val_loss: 17.8001 - val_mse: 17.8001 - val_mae: 2.3864\n",
      "Epoch 192/200\n",
      "9/9 [==============================] - 0s 14ms/step - loss: 17.9795 - mse: 17.9795 - mae: 3.1033 - val_loss: 19.4931 - val_mse: 19.4931 - val_mae: 2.5773\n",
      "Epoch 193/200\n",
      "9/9 [==============================] - 0s 11ms/step - loss: 15.6545 - mse: 15.6545 - mae: 3.0252 - val_loss: 16.9445 - val_mse: 16.9445 - val_mae: 2.3112\n",
      "Epoch 194/200\n",
      "9/9 [==============================] - 0s 12ms/step - loss: 16.3180 - mse: 16.3180 - mae: 3.0134 - val_loss: 18.4234 - val_mse: 18.4234 - val_mae: 2.4104\n",
      "Epoch 195/200\n",
      "9/9 [==============================] - 0s 14ms/step - loss: 15.1894 - mse: 15.1894 - mae: 2.9726 - val_loss: 17.3095 - val_mse: 17.3095 - val_mae: 2.3202\n",
      "Epoch 196/200\n",
      "9/9 [==============================] - 0s 18ms/step - loss: 15.4279 - mse: 15.4279 - mae: 2.9296 - val_loss: 16.9690 - val_mse: 16.9690 - val_mae: 2.2996\n"
     ]
    },
    {
     "name": "stdout",
     "output_type": "stream",
     "text": [
      "Epoch 197/200\n",
      "9/9 [==============================] - 0s 14ms/step - loss: 15.1934 - mse: 15.1934 - mae: 2.9793 - val_loss: 16.9165 - val_mse: 16.9165 - val_mae: 2.2907\n",
      "Epoch 198/200\n",
      "9/9 [==============================] - 0s 13ms/step - loss: 18.1487 - mse: 18.1487 - mae: 3.1001 - val_loss: 17.2715 - val_mse: 17.2715 - val_mae: 2.3214\n",
      "Epoch 199/200\n",
      "9/9 [==============================] - 0s 11ms/step - loss: 17.6499 - mse: 17.6499 - mae: 3.1633 - val_loss: 22.5181 - val_mse: 22.5181 - val_mae: 2.8699\n",
      "Epoch 200/200\n",
      "9/9 [==============================] - 0s 15ms/step - loss: 16.2433 - mse: 16.2433 - mae: 2.9225 - val_loss: 17.4295 - val_mse: 17.4295 - val_mae: 2.5809\n"
     ]
    }
   ],
   "source": [
    "history = model.fit(X_train, y_train, validation_split=0.2, epochs=200)"
   ]
  },
  {
   "cell_type": "code",
   "execution_count": 17,
   "metadata": {
    "colab": {
     "base_uri": "https://localhost:8080/",
     "height": 448
    },
    "id": "DbiRnlsH53Ja",
    "outputId": "a689aa23-95fb-4854-e0f7-e7b8392c8b23"
   },
   "outputs": [
    {
     "data": {
      "text/plain": [
       "<matplotlib.legend.Legend at 0x2db37240160>"
      ]
     },
     "execution_count": 17,
     "metadata": {},
     "output_type": "execute_result"
    },
    {
     "data": {
      "image/png": "[encoded data removed]",
      "text/plain": [
       "<Figure size 432x288 with 1 Axes>"
      ]
     },
     "metadata": {
      "needs_background": "light"
     },
     "output_type": "display_data"
    }
   ],
   "source": [
    "import matplotlib.pyplot as plt\n",
    "\n",
    "#plot the loss and validation loss of the dataset\n",
    "plt.plot(history.history['mae'], label='mae')\n",
    "plt.plot(history.history['val_mae'], label='val_mae')\n",
    "\n",
    "plt.legend()"
   ]
  },
  {
   "cell_type": "code",
   "execution_count": null,
   "metadata": {
    "id": "9cnlYf7TMPOG"
   },
   "outputs": [],
   "source": []
  },
  {
   "cell_type": "code",
   "execution_count": 18,
   "metadata": {
    "colab": {
     "base_uri": "https://localhost:8080/"
    },
    "id": "9BnItrdX_HOj",
    "outputId": "7c88e691-c7d1-49f6-e001-3299a656f23c"
   },
   "outputs": [
    {
     "name": "stdout",
     "output_type": "stream",
     "text": [
      "Mean Squared Error :  18.3035831451416\n",
      "Mean Absolute Error :  2.734307050704956\n"
     ]
    }
   ],
   "source": [
    "scores = model.evaluate(X_test, y_test, verbose = 0)\n",
    "\n",
    "print('Mean Squared Error : ', scores[1])\n",
    "print('Mean Absolute Error : ', scores[2])"
   ]
  },
  {
   "cell_type": "code",
   "execution_count": 19,
   "metadata": {
    "colab": {
     "base_uri": "https://localhost:8080/"
    },
    "id": "gl7TJpx3_UPH",
    "outputId": "0ab73dab-7b21-4a5b-e6a3-c6a400e8721b"
   },
   "outputs": [
    {
     "name": "stdout",
     "output_type": "stream",
     "text": [
      "5/5 [==============================] - 0s 5ms/step\n"
     ]
    },
    {
     "data": {
      "text/plain": [
       "array([[16.70658 ],\n",
       "       [25.211918],\n",
       "       [18.766266],\n",
       "       [18.645222],\n",
       "       [42.972736],\n",
       "       [26.46051 ],\n",
       "       [32.061295],\n",
       "       [19.841269],\n",
       "       [16.104681],\n",
       "       [17.471952],\n",
       "       [27.471779],\n",
       "       [26.66733 ],\n",
       "       [20.026455],\n",
       "       [35.00312 ],\n",
       "       [20.598871],\n",
       "       [12.430586],\n",
       "       [20.349047],\n",
       "       [12.112443],\n",
       "       [12.493962],\n",
       "       [16.076218],\n",
       "       [ 8.784686],\n",
       "       [17.140806],\n",
       "       [20.618326],\n",
       "       [21.37353 ],\n",
       "       [19.735468],\n",
       "       [20.283398],\n",
       "       [18.535635],\n",
       "       [16.880154],\n",
       "       [24.390337],\n",
       "       [19.216318],\n",
       "       [12.141918],\n",
       "       [23.592415],\n",
       "       [33.703568],\n",
       "       [23.095839],\n",
       "       [16.936846],\n",
       "       [16.710876],\n",
       "       [32.676643],\n",
       "       [46.25301 ],\n",
       "       [23.799809],\n",
       "       [25.078192],\n",
       "       [40.863285],\n",
       "       [34.581165],\n",
       "       [16.950521],\n",
       "       [32.15462 ],\n",
       "       [30.54239 ],\n",
       "       [23.371035],\n",
       "       [47.064453],\n",
       "       [19.586296],\n",
       "       [19.509525],\n",
       "       [22.594315],\n",
       "       [33.740387],\n",
       "       [23.908764],\n",
       "       [15.416243],\n",
       "       [29.357632],\n",
       "       [15.487737],\n",
       "       [20.572346],\n",
       "       [24.045118],\n",
       "       [32.641506],\n",
       "       [18.86581 ],\n",
       "       [37.222443],\n",
       "       [17.730005],\n",
       "       [19.592602],\n",
       "       [29.882488],\n",
       "       [17.089235],\n",
       "       [47.779488],\n",
       "       [26.579191],\n",
       "       [47.197147],\n",
       "       [10.022376],\n",
       "       [19.830452],\n",
       "       [23.14037 ],\n",
       "       [23.213964],\n",
       "       [21.239105],\n",
       "       [24.854473],\n",
       "       [26.14406 ],\n",
       "       [19.157352],\n",
       "       [27.681978],\n",
       "       [18.024385],\n",
       "       [22.420883],\n",
       "       [12.256371],\n",
       "       [20.21097 ],\n",
       "       [22.145739],\n",
       "       [19.183775],\n",
       "       [28.712505],\n",
       "       [19.424046],\n",
       "       [28.543192],\n",
       "       [23.44164 ],\n",
       "       [29.106182],\n",
       "       [20.650587],\n",
       "       [22.038654],\n",
       "       [43.678177],\n",
       "       [35.000465],\n",
       "       [48.159847],\n",
       "       [19.059025],\n",
       "       [46.54673 ],\n",
       "       [20.457909],\n",
       "       [21.376457],\n",
       "       [23.479523],\n",
       "       [30.998093],\n",
       "       [16.42878 ],\n",
       "       [21.747557],\n",
       "       [10.053523],\n",
       "       [23.266657],\n",
       "       [33.236282],\n",
       "       [16.679787],\n",
       "       [26.112574],\n",
       "       [20.854115],\n",
       "       [38.28355 ],\n",
       "       [31.02246 ],\n",
       "       [39.23593 ],\n",
       "       [25.505606],\n",
       "       [26.119806],\n",
       "       [18.44137 ],\n",
       "       [21.05614 ],\n",
       "       [28.008238],\n",
       "       [34.821888],\n",
       "       [22.066889],\n",
       "       [53.645462],\n",
       "       [17.078308],\n",
       "       [10.6534  ],\n",
       "       [18.8739  ],\n",
       "       [20.519861],\n",
       "       [15.24772 ],\n",
       "       [27.146315],\n",
       "       [26.71768 ],\n",
       "       [19.874956],\n",
       "       [18.617744],\n",
       "       [43.791546],\n",
       "       [11.822845],\n",
       "       [16.716526],\n",
       "       [15.917185],\n",
       "       [49.22545 ],\n",
       "       [17.41354 ],\n",
       "       [55.198166],\n",
       "       [32.70472 ],\n",
       "       [36.435806],\n",
       "       [21.256754],\n",
       "       [10.658373],\n",
       "       [25.238754],\n",
       "       [21.190687],\n",
       "       [20.576914],\n",
       "       [14.690914],\n",
       "       [13.362638],\n",
       "       [22.193617],\n",
       "       [21.478495],\n",
       "       [ 9.304172],\n",
       "       [20.552008],\n",
       "       [17.91055 ],\n",
       "       [15.68192 ],\n",
       "       [51.972622],\n",
       "       [20.995943],\n",
       "       [30.420748],\n",
       "       [17.786062]], dtype=float32)"
      ]
     },
     "execution_count": 19,
     "metadata": {},
     "output_type": "execute_result"
    }
   ],
   "source": [
    "Y_pred = model.predict(X_test)\n",
    "Y_pred"
   ]
  },
  {
   "cell_type": "code",
   "execution_count": 20,
   "metadata": {
    "colab": {
     "base_uri": "https://localhost:8080/"
    },
    "id": "KRu2uzRz_gVA",
    "outputId": "99ecdb91-a0ec-41f0-c3d0-e9fd43e5d8a2"
   },
   "outputs": [
    {
     "name": "stdout",
     "output_type": "stream",
     "text": [
      "r2 score:  0.8247119933730437\n"
     ]
    }
   ],
   "source": [
    "from sklearn.metrics import r2_score\n",
    "\n",
    "print('r2 score: ', r2_score(y_test,Y_pred))"
   ]
  },
  {
   "cell_type": "code",
   "execution_count": 21,
   "metadata": {
    "colab": {
     "base_uri": "https://localhost:8080/",
     "height": 492
    },
    "id": "XMEwbUk3_rkK",
    "outputId": "86891f95-00ce-4ef8-d53c-5b46a6be70b0"
   },
   "outputs": [
    {
     "name": "stdout",
     "output_type": "stream",
     "text": [
      "5/5 [==============================] - 0s 0s/step\n"
     ]
    },
    {
     "data": {
      "text/plain": [
       "[]"
      ]
     },
     "execution_count": 21,
     "metadata": {},
     "output_type": "execute_result"
    },
    {
     "data": {
      "image/png": "[encoded data removed]",
      "text/plain": [
       "<Figure size 432x288 with 1 Axes>"
      ]
     },
     "metadata": {
      "needs_background": "light"
     },
     "output_type": "display_data"
    }
   ],
   "source": [
    "Y_pred = model.predict(X_test)\n",
    "\n",
    "a = plt.axes(aspect='equal')\n",
    "\n",
    "plt.xlabel('True values')\n",
    "plt.ylabel('Predicted values')\n",
    "plt.xlim([0, 50])\n",
    "plt.ylim([0, 50])\n",
    "plt.plot([0, 50], [0,50])\n",
    "plt.scatter(y_test,Y_pred)\n",
    "plt.plot()"
   ]
  },
  {
   "cell_type": "code",
   "execution_count": null,
   "metadata": {
    "id": "BvZOiTRaTrIk"
   },
   "outputs": [],
   "source": []
  },
  {
   "cell_type": "code",
   "execution_count": 22,
   "metadata": {
    "colab": {
     "base_uri": "https://localhost:8080/",
     "height": 448
    },
    "id": "y6-t3yucIJCg",
    "outputId": "410de0c9-4aae-43f8-ae0f-49aa128c3d3d"
   },
   "outputs": [
    {
     "data": {
      "text/plain": [
       "[<matplotlib.lines.Line2D at 0x2db37282610>]"
      ]
     },
     "execution_count": 22,
     "metadata": {},
     "output_type": "execute_result"
    },
    {
     "data": {
      "image/png": "[encoded data removed]",
      "text/plain": [
       "<Figure size 432x288 with 1 Axes>"
      ]
     },
     "metadata": {
      "needs_background": "light"
     },
     "output_type": "display_data"
    }
   ],
   "source": [
    "plt.plot(y_test)\n"
   ]
  },
  {
   "cell_type": "code",
   "execution_count": 23,
   "metadata": {
    "colab": {
     "base_uri": "https://localhost:8080/",
     "height": 1000
    },
    "id": "j8r9mxabIuoG",
    "outputId": "31a5f226-e4da-44f9-9c67-464098d00951"
   },
   "outputs": [
    {
     "data": {
      "text/plain": [
       "array([[16.70658 ],\n",
       "       [25.211918],\n",
       "       [18.766266],\n",
       "       [18.645222],\n",
       "       [42.972736],\n",
       "       [26.46051 ],\n",
       "       [32.061295],\n",
       "       [19.841269],\n",
       "       [16.104681],\n",
       "       [17.471952],\n",
       "       [27.471779],\n",
       "       [26.66733 ],\n",
       "       [20.026455],\n",
       "       [35.00312 ],\n",
       "       [20.598871],\n",
       "       [12.430586],\n",
       "       [20.349047],\n",
       "       [12.112443],\n",
       "       [12.493962],\n",
       "       [16.076218],\n",
       "       [ 8.784686],\n",
       "       [17.140806],\n",
       "       [20.618326],\n",
       "       [21.37353 ],\n",
       "       [19.735468],\n",
       "       [20.283398],\n",
       "       [18.535635],\n",
       "       [16.880154],\n",
       "       [24.390337],\n",
       "       [19.216318],\n",
       "       [12.141918],\n",
       "       [23.592415],\n",
       "       [33.703568],\n",
       "       [23.095839],\n",
       "       [16.936846],\n",
       "       [16.710876],\n",
       "       [32.676643],\n",
       "       [46.25301 ],\n",
       "       [23.799809],\n",
       "       [25.078192],\n",
       "       [40.863285],\n",
       "       [34.581165],\n",
       "       [16.950521],\n",
       "       [32.15462 ],\n",
       "       [30.54239 ],\n",
       "       [23.371035],\n",
       "       [47.064453],\n",
       "       [19.586296],\n",
       "       [19.509525],\n",
       "       [22.594315],\n",
       "       [33.740387],\n",
       "       [23.908764],\n",
       "       [15.416243],\n",
       "       [29.357632],\n",
       "       [15.487737],\n",
       "       [20.572346],\n",
       "       [24.045118],\n",
       "       [32.641506],\n",
       "       [18.86581 ],\n",
       "       [37.222443],\n",
       "       [17.730005],\n",
       "       [19.592602],\n",
       "       [29.882488],\n",
       "       [17.089235],\n",
       "       [47.779488],\n",
       "       [26.579191],\n",
       "       [47.197147],\n",
       "       [10.022376],\n",
       "       [19.830452],\n",
       "       [23.14037 ],\n",
       "       [23.213964],\n",
       "       [21.239105],\n",
       "       [24.854473],\n",
       "       [26.14406 ],\n",
       "       [19.157352],\n",
       "       [27.681978],\n",
       "       [18.024385],\n",
       "       [22.420883],\n",
       "       [12.256371],\n",
       "       [20.21097 ],\n",
       "       [22.145739],\n",
       "       [19.183775],\n",
       "       [28.712505],\n",
       "       [19.424046],\n",
       "       [28.543192],\n",
       "       [23.44164 ],\n",
       "       [29.106182],\n",
       "       [20.650587],\n",
       "       [22.038654],\n",
       "       [43.678177],\n",
       "       [35.000465],\n",
       "       [48.159847],\n",
       "       [19.059025],\n",
       "       [46.54673 ],\n",
       "       [20.457909],\n",
       "       [21.376457],\n",
       "       [23.479523],\n",
       "       [30.998093],\n",
       "       [16.42878 ],\n",
       "       [21.747557],\n",
       "       [10.053523],\n",
       "       [23.266657],\n",
       "       [33.236282],\n",
       "       [16.679787],\n",
       "       [26.112574],\n",
       "       [20.854115],\n",
       "       [38.28355 ],\n",
       "       [31.02246 ],\n",
       "       [39.23593 ],\n",
       "       [25.505606],\n",
       "       [26.119806],\n",
       "       [18.44137 ],\n",
       "       [21.05614 ],\n",
       "       [28.008238],\n",
       "       [34.821888],\n",
       "       [22.066889],\n",
       "       [53.645462],\n",
       "       [17.078308],\n",
       "       [10.6534  ],\n",
       "       [18.8739  ],\n",
       "       [20.519861],\n",
       "       [15.24772 ],\n",
       "       [27.146315],\n",
       "       [26.71768 ],\n",
       "       [19.874956],\n",
       "       [18.617744],\n",
       "       [43.791546],\n",
       "       [11.822845],\n",
       "       [16.716526],\n",
       "       [15.917185],\n",
       "       [49.22545 ],\n",
       "       [17.41354 ],\n",
       "       [55.198166],\n",
       "       [32.70472 ],\n",
       "       [36.435806],\n",
       "       [21.256754],\n",
       "       [10.658373],\n",
       "       [25.238754],\n",
       "       [21.190687],\n",
       "       [20.576914],\n",
       "       [14.690914],\n",
       "       [13.362638],\n",
       "       [22.193617],\n",
       "       [21.478495],\n",
       "       [ 9.304172],\n",
       "       [20.552008],\n",
       "       [17.91055 ],\n",
       "       [15.68192 ],\n",
       "       [51.972622],\n",
       "       [20.995943],\n",
       "       [30.420748],\n",
       "       [17.786062]], dtype=float32)"
      ]
     },
     "execution_count": 23,
     "metadata": {},
     "output_type": "execute_result"
    },
    {
     "data": {
      "image/png": "[encoded data removed]",
      "text/plain": [
       "<Figure size 432x288 with 1 Axes>"
      ]
     },
     "metadata": {
      "needs_background": "light"
     },
     "output_type": "display_data"
    }
   ],
   "source": [
    "plt.plot(Y_pred)\n",
    "Y_pred"
   ]
  },
  {
   "cell_type": "code",
   "execution_count": 24,
   "metadata": {
    "colab": {
     "base_uri": "https://localhost:8080/"
    },
    "id": "XxX3fT4dBKEB",
    "outputId": "8dda9e54-d393-4e81-d443-514e973a320f"
   },
   "outputs": [
    {
     "name": "stdout",
     "output_type": "stream",
     "text": [
      "[[16.70658 ]\n",
      " [25.211918]\n",
      " [18.766266]\n",
      " [18.645222]\n",
      " [42.972736]]\n",
      "8      16.5\n",
      "289    24.8\n",
      "68     17.4\n",
      "211    19.3\n",
      "226    37.6\n",
      "Name: medv, dtype: float64\n"
     ]
    },
    {
     "data": {
      "text/plain": [
       "8      16.5\n",
       "289    24.8\n",
       "68     17.4\n",
       "211    19.3\n",
       "226    37.6\n",
       "Name: medv, dtype: float64"
      ]
     },
     "execution_count": 24,
     "metadata": {},
     "output_type": "execute_result"
    }
   ],
   "source": [
    "print(Y_pred[:5])\n",
    "print(y_test[:5])\n",
    "y_test.head()"
   ]
  },
  {
   "cell_type": "markdown",
   "metadata": {
    "id": "eT31HtxEXWag"
   },
   "source": [
    "Using ML MODEL lm for Linear Regression"
   ]
  },
  {
   "cell_type": "code",
   "execution_count": 25,
   "metadata": {
    "id": "O4v6tgapTszY"
   },
   "outputs": [],
   "source": [
    "# Import library for Linear Regression\n",
    "from sklearn.linear_model import LinearRegression"
   ]
  },
  {
   "cell_type": "code",
   "execution_count": 26,
   "metadata": {
    "colab": {
     "base_uri": "https://localhost:8080/",
     "height": 75
    },
    "id": "zVTMNgNaTz8R",
    "outputId": "a1a7ebc2-b082-4aa3-ccde-0eaba58a5417"
   },
   "outputs": [
    {
     "data": {
      "text/plain": [
       "LinearRegression()"
      ]
     },
     "execution_count": 26,
     "metadata": {},
     "output_type": "execute_result"
    }
   ],
   "source": [
    "# Create a Linear regressor\n",
    "lm = LinearRegression()\n",
    "\n",
    "# Train the model using the training sets \n",
    "lm.fit(X_train, y_train)"
   ]
  },
  {
   "cell_type": "code",
   "execution_count": 27,
   "metadata": {
    "colab": {
     "base_uri": "https://localhost:8080/"
    },
    "id": "LPG4SRUjT6GT",
    "outputId": "6c3a6ed3-a4b1-4044-fbad-cf1fe3e1a5ef"
   },
   "outputs": [
    {
     "data": {
      "text/plain": [
       "27.637914578957268"
      ]
     },
     "execution_count": 27,
     "metadata": {},
     "output_type": "execute_result"
    }
   ],
   "source": [
    "# Value of y intercept\n",
    "lm.intercept_"
   ]
  },
  {
   "cell_type": "code",
   "execution_count": 28,
   "metadata": {
    "colab": {
     "base_uri": "https://localhost:8080/",
     "height": 457
    },
    "id": "x060Q6u-UALk",
    "outputId": "8f319df5-563c-4a7d-a787-d2d66dd1ad1f"
   },
   "outputs": [
    {
     "data": {
      "text/html": [
       "<div>\n",
       "<style scoped>\n",
       "    .dataframe tbody tr th:only-of-type {\n",
       "        vertical-align: middle;\n",
       "    }\n",
       "\n",
       "    .dataframe tbody tr th {\n",
       "        vertical-align: top;\n",
       "    }\n",
       "\n",
       "    .dataframe thead th {\n",
       "        text-align: right;\n",
       "    }\n",
       "</style>\n",
       "<table border=\"1\" class=\"dataframe\">\n",
       "  <thead>\n",
       "    <tr style=\"text-align: right;\">\n",
       "      <th></th>\n",
       "      <th>Attribute</th>\n",
       "      <th>Coefficients</th>\n",
       "    </tr>\n",
       "  </thead>\n",
       "  <tbody>\n",
       "    <tr>\n",
       "      <th>0</th>\n",
       "      <td>Unnamed: 0</td>\n",
       "      <td>-1.12059</td>\n",
       "    </tr>\n",
       "    <tr>\n",
       "      <th>1</th>\n",
       "      <td>crim</td>\n",
       "      <td>-10.9793</td>\n",
       "    </tr>\n",
       "    <tr>\n",
       "      <th>2</th>\n",
       "      <td>zn</td>\n",
       "      <td>5.75019</td>\n",
       "    </tr>\n",
       "    <tr>\n",
       "      <th>3</th>\n",
       "      <td>indus</td>\n",
       "      <td>-0.234247</td>\n",
       "    </tr>\n",
       "    <tr>\n",
       "      <th>4</th>\n",
       "      <td>chas</td>\n",
       "      <td>4.68369</td>\n",
       "    </tr>\n",
       "    <tr>\n",
       "      <th>5</th>\n",
       "      <td>nox</td>\n",
       "      <td>-6.86576</td>\n",
       "    </tr>\n",
       "    <tr>\n",
       "      <th>6</th>\n",
       "      <td>rm</td>\n",
       "      <td>16.0633</td>\n",
       "    </tr>\n",
       "    <tr>\n",
       "      <th>7</th>\n",
       "      <td>age</td>\n",
       "      <td>-0.569172</td>\n",
       "    </tr>\n",
       "    <tr>\n",
       "      <th>8</th>\n",
       "      <td>dis</td>\n",
       "      <td>-17.1983</td>\n",
       "    </tr>\n",
       "    <tr>\n",
       "      <th>9</th>\n",
       "      <td>rad</td>\n",
       "      <td>7.91933</td>\n",
       "    </tr>\n",
       "    <tr>\n",
       "      <th>10</th>\n",
       "      <td>tax</td>\n",
       "      <td>-7.06144</td>\n",
       "    </tr>\n",
       "    <tr>\n",
       "      <th>11</th>\n",
       "      <td>ptratio</td>\n",
       "      <td>-7.48927</td>\n",
       "    </tr>\n",
       "    <tr>\n",
       "      <th>12</th>\n",
       "      <td>black</td>\n",
       "      <td>3.72085</td>\n",
       "    </tr>\n",
       "    <tr>\n",
       "      <th>13</th>\n",
       "      <td>lstat</td>\n",
       "      <td>-18.5192</td>\n",
       "    </tr>\n",
       "  </tbody>\n",
       "</table>\n",
       "</div>"
      ],
      "text/plain": [
       "     Attribute Coefficients\n",
       "0   Unnamed: 0     -1.12059\n",
       "1         crim     -10.9793\n",
       "2           zn      5.75019\n",
       "3        indus    -0.234247\n",
       "4         chas      4.68369\n",
       "5          nox     -6.86576\n",
       "6           rm      16.0633\n",
       "7          age    -0.569172\n",
       "8          dis     -17.1983\n",
       "9          rad      7.91933\n",
       "10         tax     -7.06144\n",
       "11     ptratio     -7.48927\n",
       "12       black      3.72085\n",
       "13       lstat     -18.5192"
      ]
     },
     "execution_count": 28,
     "metadata": {},
     "output_type": "execute_result"
    }
   ],
   "source": [
    "#Converting the coefficient values to a dataframe\n",
    "coeffcients = pd.DataFrame([X.columns,lm.coef_]).T\n",
    "coeffcients = coeffcients.rename(columns={0: 'Attribute', 1: 'Coefficients'})\n",
    "coeffcients"
   ]
  },
  {
   "cell_type": "code",
   "execution_count": 29,
   "metadata": {
    "id": "zA1yTe7wUEya"
   },
   "outputs": [],
   "source": [
    "# Model prediction on train data\n",
    "y_pred = lm.predict(X_train)"
   ]
  },
  {
   "cell_type": "code",
   "execution_count": 30,
   "metadata": {
    "colab": {
     "base_uri": "https://localhost:8080/"
    },
    "id": "fHH9VL5KU9f1",
    "outputId": "4f6c350d-2a68-42bd-d7f7-0fe77e96e45c"
   },
   "outputs": [
    {
     "name": "stdout",
     "output_type": "stream",
     "text": [
      "R^2: 0.7472849101482609\n",
      "Adjusted R^2: 0.7368482987679531\n",
      "MAE: 3.0799724688246988\n",
      "MSE: 19.022074481402168\n",
      "RMSE: 4.36143032518028\n"
     ]
    }
   ],
   "source": [
    "# Model Evaluation\n",
    "print('R^2:',metrics.r2_score(y_train, y_pred))\n",
    "print('Adjusted R^2:',1 - (1-metrics.r2_score(y_train, y_pred))*(len(y_train)-1)/(len(y_train)-X_train.shape[1]-1))\n",
    "print('MAE:',metrics.mean_absolute_error(y_train, y_pred))\n",
    "print('MSE:',metrics.mean_squared_error(y_train, y_pred))\n",
    "print('RMSE:',np.sqrt(metrics.mean_squared_error(y_train, y_pred)))"
   ]
  },
  {
   "cell_type": "code",
   "execution_count": 31,
   "metadata": {
    "colab": {
     "base_uri": "https://localhost:8080/",
     "height": 472
    },
    "id": "46xup_YtVBRj",
    "outputId": "14c04aa1-e762-4d86-c702-0387137f8b16"
   },
   "outputs": [
    {
     "data": {
      "image/png": "[encoded data removed]",
      "text/plain": [
       "<Figure size 432x288 with 1 Axes>"
      ]
     },
     "metadata": {
      "needs_background": "light"
     },
     "output_type": "display_data"
    }
   ],
   "source": [
    "# Visualizing the differences between actual prices and predicted values\n",
    "plt.scatter(y_train, y_pred)\n",
    "plt.xlabel(\"Prices\")\n",
    "plt.ylabel(\"Predicted prices\")\n",
    "plt.title(\"Prices vs Predicted prices\")\n",
    "plt.show()"
   ]
  },
  {
   "cell_type": "code",
   "execution_count": 32,
   "metadata": {
    "colab": {
     "base_uri": "https://localhost:8080/",
     "height": 472
    },
    "id": "eqBz_IMIVFGP",
    "outputId": "a922028a-88e9-44cb-d6e8-c0850b5061d6"
   },
   "outputs": [
    {
     "data": {
      "image/png": "[encoded data removed]",
      "text/plain": [
       "<Figure size 432x288 with 1 Axes>"
      ]
     },
     "metadata": {
      "needs_background": "light"
     },
     "output_type": "display_data"
    }
   ],
   "source": [
    "# Checking residuals\n",
    "plt.scatter(y_pred,y_train-y_pred)\n",
    "plt.title(\"Predicted vs residuals\")\n",
    "plt.xlabel(\"Predicted\")\n",
    "plt.ylabel(\"Residuals\")\n",
    "plt.show()"
   ]
  },
  {
   "cell_type": "code",
   "execution_count": 33,
   "metadata": {
    "colab": {
     "base_uri": "https://localhost:8080/",
     "height": 675
    },
    "id": "61CvMhs9VIMP",
    "outputId": "f5c2b364-efb4-4c92-dd6e-5e0df520cbba"
   },
   "outputs": [
    {
     "data": {
      "image/png": "[encoded data removed]",
      "text/plain": [
       "<Figure size 432x288 with 1 Axes>"
      ]
     },
     "metadata": {
      "needs_background": "light"
     },
     "output_type": "display_data"
    }
   ],
   "source": [
    "# Checking Normality of errors\n",
    "sns.distplot(y_train-y_pred)\n",
    "plt.title(\"Histogram of Residuals\")\n",
    "plt.xlabel(\"Residuals\")\n",
    "plt.ylabel(\"Frequency\")\n",
    "plt.show()"
   ]
  },
  {
   "cell_type": "code",
   "execution_count": 34,
   "metadata": {
    "id": "_iZSawITVNPo"
   },
   "outputs": [],
   "source": [
    "# Predicting Test data with the model\n",
    "y_test_pred = lm.predict(X_test)"
   ]
  },
  {
   "cell_type": "code",
   "execution_count": 35,
   "metadata": {
    "colab": {
     "base_uri": "https://localhost:8080/"
    },
    "id": "DAGGu9FDVQs_",
    "outputId": "54a8bf0d-c5a4-407b-ece7-289e48726b97"
   },
   "outputs": [
    {
     "name": "stdout",
     "output_type": "stream",
     "text": [
      "R^2: 0.7134033837044162\n",
      "Adjusted R^2: 0.6841161382435537\n",
      "MAE: 3.8549920587264106\n",
      "MSE: 29.9264393893202\n",
      "RMSE: 5.470506319283454\n"
     ]
    }
   ],
   "source": [
    "# Model Evaluation\n",
    "acc_linreg = metrics.r2_score(y_test, y_test_pred)\n",
    "print('R^2:', acc_linreg)\n",
    "print('Adjusted R^2:',1 - (1-metrics.r2_score(y_test, y_test_pred))*(len(y_test)-1)/(len(y_test)-X_test.shape[1]-1))\n",
    "print('MAE:',metrics.mean_absolute_error(y_test, y_test_pred))\n",
    "print('MSE:',metrics.mean_squared_error(y_test, y_test_pred))\n",
    "print('RMSE:',np.sqrt(metrics.mean_squared_error(y_test, y_test_pred)))"
   ]
  },
  {
   "cell_type": "code",
   "execution_count": 36,
   "metadata": {
    "colab": {
     "base_uri": "https://localhost:8080/",
     "height": 150
    },
    "id": "-E1PDwvlVIV9",
    "outputId": "e60c24c0-6cfa-443b-b53d-0a6f73336e16"
   },
   "outputs": [
    {
     "data": {
      "text/plain": [
       "[]"
      ]
     },
     "execution_count": 36,
     "metadata": {},
     "output_type": "execute_result"
    },
    {
     "data": {
      "image/png": "[encoded data removed]",
      "text/plain": [
       "<Figure size 432x288 with 1 Axes>"
      ]
     },
     "metadata": {
      "needs_background": "light"
     },
     "output_type": "display_data"
    }
   ],
   "source": [
    "x1=[1,2,3,4,5,6]\n",
    "y1=[1,2,4,5,7,6]\n",
    "plt.xlabel('True values')\n",
    "plt.ylabel('Predicted values')\n",
    "plt.xlim([0,10])\n",
    "plt.ylim([0,10])\n",
    "plt.plot([0, 10], [0,10])\n",
    "plt.scatter(x1,y1)\n",
    "plt.plot()"
   ]
  },
  {
   "cell_type": "code",
   "execution_count": null,
   "metadata": {},
   "outputs": [],
   "source": []
  }
 ],
 "metadata": {
  "colab": {
   "provenance": []
  },
  "kernelspec": {
   "display_name": "Python 3",
   "language": "python",
   "name": "python3"
  },
  "language_info": {
   "codemirror_mode": {
    "name": "ipython",
    "version": 3
   },
   "file_extension": ".py",
   "mimetype": "text/x-python",
   "name": "python",
   "nbconvert_exporter": "python",
   "pygments_lexer": "ipython3",
   "version": "3.8.3"
  }
 },
 "nbformat": 4,
 "nbformat_minor": 1
}
